{
 "cells": [
  {
   "cell_type": "markdown",
   "metadata": {},
   "source": [
    "# Capstone Project"
   ]
  },
  {
   "cell_type": "markdown",
   "metadata": {},
   "source": [
    "Data came from:\n",
    "https://webrobots.io/kickstarter-datasets/"
   ]
  },
  {
   "cell_type": "markdown",
   "metadata": {},
   "source": [
    "https://www.kickstarter.com/help/handbook/funding\n",
    "\n",
    "Kickstarter provides what is called a creator's handbook for funding. The original objective of this analysis was to determine what leads to successful boardgames. From there the idea was to create a boardgame based on my findings to see if I could create a successful boardgame based on the findings. However, an important first phase of this analysis was to see if I could predict whether or not a project would be successful. So that is what I did here."
   ]
  },
  {
   "cell_type": "markdown",
   "metadata": {},
   "source": [
    "## Import Libraries"
   ]
  },
  {
   "cell_type": "code",
   "execution_count": 1,
   "metadata": {},
   "outputs": [],
   "source": [
    "import os\n",
    "import glob\n",
    "import pandas as pd\n",
    "# os.chdir(\"./datasets/kickstarter_data/\") # uncomment to run initially\n",
    "\n",
    "import re"
   ]
  },
  {
   "cell_type": "code",
   "execution_count": 2,
   "metadata": {},
   "outputs": [],
   "source": [
    "import pandas as pd\n",
    "import numpy as np\n",
    "import seaborn as sns\n",
    "import matplotlib.pyplot as plt\n",
    "from sklearn.linear_model import LinearRegression, LassoCV, RidgeCV\n",
    "from sklearn.preprocessing import PolynomialFeatures, PowerTransformer\n",
    "from sklearn.model_selection import train_test_split, cross_val_score, cross_val_predict\n",
    "from sklearn.metrics import r2_score\n",
    "\n",
    "%matplotlib inline"
   ]
  },
  {
   "cell_type": "markdown",
   "metadata": {},
   "source": [
    "## Gather Data"
   ]
  },
  {
   "cell_type": "markdown",
   "metadata": {},
   "source": [
    "## Combine Data"
   ]
  },
  {
   "cell_type": "code",
   "execution_count": 3,
   "metadata": {},
   "outputs": [],
   "source": [
    "## uncomment to run initially\n",
    "## credit: https://www.freecodecamp.org/news/how-to-combine-multiple-csv-files-with-8-lines-of-code-265183e0854/\n",
    "# extension = 'csv'\n",
    "# all_filenames = [i for i in glob.glob('*.{}'.format(extension))]\n",
    "\n",
    "# #combine all files in the list\n",
    "# combined_csv = pd.concat([pd.read_csv(f) for f in all_filenames ])\n",
    "# #export to csv\n",
    "# combined_csv.to_csv( \"combined.csv\", index=False, encoding='utf-8-sig')"
   ]
  },
  {
   "cell_type": "markdown",
   "metadata": {},
   "source": [
    "## Read in Data"
   ]
  },
  {
   "cell_type": "code",
   "execution_count": 4,
   "metadata": {},
   "outputs": [],
   "source": [
    "df = pd.read_csv('./datasets/kickstarter_data/combined.csv')"
   ]
  },
  {
   "cell_type": "markdown",
   "metadata": {},
   "source": [
    "## Exploratory Data Analysis (EDA)"
   ]
  },
  {
   "cell_type": "code",
   "execution_count": 5,
   "metadata": {},
   "outputs": [
    {
     "name": "stdout",
     "output_type": "stream",
     "text": [
      "<class 'pandas.core.frame.DataFrame'>\n",
      "RangeIndex: 217433 entries, 0 to 217432\n",
      "Data columns (total 38 columns):\n",
      " #   Column                    Non-Null Count   Dtype  \n",
      "---  ------                    --------------   -----  \n",
      " 0   backers_count             217433 non-null  int64  \n",
      " 1   blurb                     217425 non-null  object \n",
      " 2   category                  217433 non-null  object \n",
      " 3   converted_pledged_amount  217433 non-null  int64  \n",
      " 4   country                   217433 non-null  object \n",
      " 5   country_displayable_name  217433 non-null  object \n",
      " 6   created_at                217433 non-null  int64  \n",
      " 7   creator                   217433 non-null  object \n",
      " 8   currency                  217433 non-null  object \n",
      " 9   currency_symbol           217433 non-null  object \n",
      " 10  currency_trailing_code    217433 non-null  bool   \n",
      " 11  current_currency          217433 non-null  object \n",
      " 12  deadline                  217433 non-null  int64  \n",
      " 13  disable_communication     217433 non-null  bool   \n",
      " 14  friends                   72 non-null      object \n",
      " 15  fx_rate                   217433 non-null  float64\n",
      " 16  goal                      217433 non-null  float64\n",
      " 17  id                        217433 non-null  int64  \n",
      " 18  is_backing                72 non-null      object \n",
      " 19  is_starrable              217433 non-null  bool   \n",
      " 20  is_starred                72 non-null      object \n",
      " 21  launched_at               217433 non-null  int64  \n",
      " 22  location                  217218 non-null  object \n",
      " 23  name                      217433 non-null  object \n",
      " 24  permissions               72 non-null      object \n",
      " 25  photo                     217433 non-null  object \n",
      " 26  pledged                   217433 non-null  float64\n",
      " 27  profile                   217433 non-null  object \n",
      " 28  slug                      217433 non-null  object \n",
      " 29  source_url                217433 non-null  object \n",
      " 30  spotlight                 217433 non-null  bool   \n",
      " 31  staff_pick                217433 non-null  bool   \n",
      " 32  state                     217433 non-null  object \n",
      " 33  state_changed_at          217433 non-null  int64  \n",
      " 34  static_usd_rate           217433 non-null  float64\n",
      " 35  urls                      217433 non-null  object \n",
      " 36  usd_pledged               217433 non-null  float64\n",
      " 37  usd_type                  217229 non-null  object \n",
      "dtypes: bool(5), float64(5), int64(7), object(21)\n",
      "memory usage: 55.8+ MB\n"
     ]
    }
   ],
   "source": [
    "df.info()"
   ]
  },
  {
   "cell_type": "code",
   "execution_count": 6,
   "metadata": {},
   "outputs": [
    {
     "data": {
      "text/plain": [
       "backers_count                    0\n",
       "source_url                       0\n",
       "slug                             0\n",
       "profile                          0\n",
       "pledged                          0\n",
       "photo                            0\n",
       "state                            0\n",
       "name                             0\n",
       "state_changed_at                 0\n",
       "launched_at                      0\n",
       "static_usd_rate                  0\n",
       "is_starrable                     0\n",
       "usd_pledged                      0\n",
       "id                               0\n",
       "goal                             0\n",
       "fx_rate                          0\n",
       "urls                             0\n",
       "disable_communication            0\n",
       "deadline                         0\n",
       "current_currency                 0\n",
       "currency_trailing_code           0\n",
       "currency_symbol                  0\n",
       "currency                         0\n",
       "creator                          0\n",
       "created_at                       0\n",
       "country_displayable_name         0\n",
       "country                          0\n",
       "converted_pledged_amount         0\n",
       "category                         0\n",
       "spotlight                        0\n",
       "staff_pick                       0\n",
       "blurb                            8\n",
       "usd_type                       204\n",
       "location                       215\n",
       "is_starred                  217361\n",
       "friends                     217361\n",
       "permissions                 217361\n",
       "is_backing                  217361\n",
       "dtype: int64"
      ]
     },
     "execution_count": 6,
     "metadata": {},
     "output_type": "execute_result"
    }
   ],
   "source": [
    "missing_values= df.isnull().sum()\n",
    "missing_values/len(df)\n",
    "missing_values.sort_values(ascending=True)"
   ]
  },
  {
   "cell_type": "code",
   "execution_count": 7,
   "metadata": {},
   "outputs": [],
   "source": [
    "# drop these features due to having a significant number of missing values\n",
    "df.drop([\n",
    "    'friends',\n",
    "    'is_backing',\n",
    "    'is_starred',\n",
    "    'permissions'\n",
    "], axis=1, inplace=True)"
   ]
  },
  {
   "cell_type": "code",
   "execution_count": 8,
   "metadata": {},
   "outputs": [
    {
     "data": {
      "text/plain": [
       "backers_count               0.000000\n",
       "blurb                       0.000037\n",
       "category                    0.000000\n",
       "converted_pledged_amount    0.000000\n",
       "country                     0.000000\n",
       "country_displayable_name    0.000000\n",
       "created_at                  0.000000\n",
       "creator                     0.000000\n",
       "currency                    0.000000\n",
       "currency_symbol             0.000000\n",
       "currency_trailing_code      0.000000\n",
       "current_currency            0.000000\n",
       "deadline                    0.000000\n",
       "disable_communication       0.000000\n",
       "fx_rate                     0.000000\n",
       "goal                        0.000000\n",
       "id                          0.000000\n",
       "is_starrable                0.000000\n",
       "launched_at                 0.000000\n",
       "location                    0.000989\n",
       "name                        0.000000\n",
       "photo                       0.000000\n",
       "pledged                     0.000000\n",
       "profile                     0.000000\n",
       "slug                        0.000000\n",
       "source_url                  0.000000\n",
       "spotlight                   0.000000\n",
       "staff_pick                  0.000000\n",
       "state                       0.000000\n",
       "state_changed_at            0.000000\n",
       "static_usd_rate             0.000000\n",
       "urls                        0.000000\n",
       "usd_pledged                 0.000000\n",
       "usd_type                    0.000938\n",
       "dtype: float64"
      ]
     },
     "execution_count": 8,
     "metadata": {},
     "output_type": "execute_result"
    }
   ],
   "source": [
    "missing_values= df.isnull().sum()\n",
    "missing_values/len(df)"
   ]
  },
  {
   "cell_type": "code",
   "execution_count": 9,
   "metadata": {},
   "outputs": [],
   "source": [
    "# eliminate remaining missing values\n",
    "df.dropna(inplace=True)"
   ]
  },
  {
   "cell_type": "code",
   "execution_count": 10,
   "metadata": {},
   "outputs": [
    {
     "data": {
      "text/plain": [
       "backers_count               0.0\n",
       "blurb                       0.0\n",
       "category                    0.0\n",
       "converted_pledged_amount    0.0\n",
       "country                     0.0\n",
       "country_displayable_name    0.0\n",
       "created_at                  0.0\n",
       "creator                     0.0\n",
       "currency                    0.0\n",
       "currency_symbol             0.0\n",
       "currency_trailing_code      0.0\n",
       "current_currency            0.0\n",
       "deadline                    0.0\n",
       "disable_communication       0.0\n",
       "fx_rate                     0.0\n",
       "goal                        0.0\n",
       "id                          0.0\n",
       "is_starrable                0.0\n",
       "launched_at                 0.0\n",
       "location                    0.0\n",
       "name                        0.0\n",
       "photo                       0.0\n",
       "pledged                     0.0\n",
       "profile                     0.0\n",
       "slug                        0.0\n",
       "source_url                  0.0\n",
       "spotlight                   0.0\n",
       "staff_pick                  0.0\n",
       "state                       0.0\n",
       "state_changed_at            0.0\n",
       "static_usd_rate             0.0\n",
       "urls                        0.0\n",
       "usd_pledged                 0.0\n",
       "usd_type                    0.0\n",
       "dtype: float64"
      ]
     },
     "execution_count": 10,
     "metadata": {},
     "output_type": "execute_result"
    }
   ],
   "source": [
    "missing_values= df.isnull().sum()\n",
    "missing_values/len(df)"
   ]
  },
  {
   "cell_type": "code",
   "execution_count": 11,
   "metadata": {},
   "outputs": [
    {
     "name": "stdout",
     "output_type": "stream",
     "text": [
      "<class 'pandas.core.frame.DataFrame'>\n",
      "Int64Index: 217006 entries, 0 to 217432\n",
      "Data columns (total 34 columns):\n",
      " #   Column                    Non-Null Count   Dtype  \n",
      "---  ------                    --------------   -----  \n",
      " 0   backers_count             217006 non-null  int64  \n",
      " 1   blurb                     217006 non-null  object \n",
      " 2   category                  217006 non-null  object \n",
      " 3   converted_pledged_amount  217006 non-null  int64  \n",
      " 4   country                   217006 non-null  object \n",
      " 5   country_displayable_name  217006 non-null  object \n",
      " 6   created_at                217006 non-null  int64  \n",
      " 7   creator                   217006 non-null  object \n",
      " 8   currency                  217006 non-null  object \n",
      " 9   currency_symbol           217006 non-null  object \n",
      " 10  currency_trailing_code    217006 non-null  bool   \n",
      " 11  current_currency          217006 non-null  object \n",
      " 12  deadline                  217006 non-null  int64  \n",
      " 13  disable_communication     217006 non-null  bool   \n",
      " 14  fx_rate                   217006 non-null  float64\n",
      " 15  goal                      217006 non-null  float64\n",
      " 16  id                        217006 non-null  int64  \n",
      " 17  is_starrable              217006 non-null  bool   \n",
      " 18  launched_at               217006 non-null  int64  \n",
      " 19  location                  217006 non-null  object \n",
      " 20  name                      217006 non-null  object \n",
      " 21  photo                     217006 non-null  object \n",
      " 22  pledged                   217006 non-null  float64\n",
      " 23  profile                   217006 non-null  object \n",
      " 24  slug                      217006 non-null  object \n",
      " 25  source_url                217006 non-null  object \n",
      " 26  spotlight                 217006 non-null  bool   \n",
      " 27  staff_pick                217006 non-null  bool   \n",
      " 28  state                     217006 non-null  object \n",
      " 29  state_changed_at          217006 non-null  int64  \n",
      " 30  static_usd_rate           217006 non-null  float64\n",
      " 31  urls                      217006 non-null  object \n",
      " 32  usd_pledged               217006 non-null  float64\n",
      " 33  usd_type                  217006 non-null  object \n",
      "dtypes: bool(5), float64(5), int64(7), object(17)\n",
      "memory usage: 50.7+ MB\n"
     ]
    }
   ],
   "source": [
    "df.info()"
   ]
  },
  {
   "cell_type": "code",
   "execution_count": 12,
   "metadata": {},
   "outputs": [
    {
     "data": {
      "text/plain": [
       "0         1441269202\n",
       "1         1576048498\n",
       "2         1560821709\n",
       "3         1563139848\n",
       "4         1561364892\n",
       "             ...    \n",
       "217428    1315249915\n",
       "217429    1422761841\n",
       "217430    1434634988\n",
       "217431    1521649603\n",
       "217432    1433781463\n",
       "Name: created_at, Length: 217006, dtype: int64"
      ]
     },
     "execution_count": 12,
     "metadata": {},
     "output_type": "execute_result"
    }
   ],
   "source": [
    "df.created_at"
   ]
  },
  {
   "cell_type": "code",
   "execution_count": 13,
   "metadata": {},
   "outputs": [],
   "source": [
    "# df['created_at'] = pd.to_datetime(df['created_at'])"
   ]
  },
  {
   "cell_type": "code",
   "execution_count": 14,
   "metadata": {},
   "outputs": [
    {
     "data": {
      "text/html": [
       "<div>\n",
       "<style scoped>\n",
       "    .dataframe tbody tr th:only-of-type {\n",
       "        vertical-align: middle;\n",
       "    }\n",
       "\n",
       "    .dataframe tbody tr th {\n",
       "        vertical-align: top;\n",
       "    }\n",
       "\n",
       "    .dataframe thead th {\n",
       "        text-align: right;\n",
       "    }\n",
       "</style>\n",
       "<table border=\"1\" class=\"dataframe\">\n",
       "  <thead>\n",
       "    <tr style=\"text-align: right;\">\n",
       "      <th></th>\n",
       "      <th>backers_count</th>\n",
       "      <th>blurb</th>\n",
       "      <th>category</th>\n",
       "      <th>converted_pledged_amount</th>\n",
       "      <th>country</th>\n",
       "      <th>country_displayable_name</th>\n",
       "      <th>created_at</th>\n",
       "      <th>creator</th>\n",
       "      <th>currency</th>\n",
       "      <th>currency_symbol</th>\n",
       "      <th>...</th>\n",
       "      <th>slug</th>\n",
       "      <th>source_url</th>\n",
       "      <th>spotlight</th>\n",
       "      <th>staff_pick</th>\n",
       "      <th>state</th>\n",
       "      <th>state_changed_at</th>\n",
       "      <th>static_usd_rate</th>\n",
       "      <th>urls</th>\n",
       "      <th>usd_pledged</th>\n",
       "      <th>usd_type</th>\n",
       "    </tr>\n",
       "  </thead>\n",
       "  <tbody>\n",
       "    <tr>\n",
       "      <th>0</th>\n",
       "      <td>1</td>\n",
       "      <td>we are going Production herbal teabag of  plan...</td>\n",
       "      <td>{\"id\":313,\"name\":\"Small Batch\",\"slug\":\"food/sm...</td>\n",
       "      <td>19</td>\n",
       "      <td>AU</td>\n",
       "      <td>Australia</td>\n",
       "      <td>1441269202</td>\n",
       "      <td>{\"id\":1555219532,\"name\":\"ehsan\",\"is_registered...</td>\n",
       "      <td>AUD</td>\n",
       "      <td>$</td>\n",
       "      <td>...</td>\n",
       "      <td>production-herbal-teabag-of-plants-native-to-iran</td>\n",
       "      <td>https://www.kickstarter.com/discover/categorie...</td>\n",
       "      <td>False</td>\n",
       "      <td>False</td>\n",
       "      <td>failed</td>\n",
       "      <td>1444141184</td>\n",
       "      <td>0.691164</td>\n",
       "      <td>{\"web\":{\"project\":\"https://www.kickstarter.com...</td>\n",
       "      <td>1.866144e+01</td>\n",
       "      <td>domestic</td>\n",
       "    </tr>\n",
       "    <tr>\n",
       "      <th>1</th>\n",
       "      <td>637</td>\n",
       "      <td>Two agents battle each other in another dimens...</td>\n",
       "      <td>{\"id\":34,\"name\":\"Tabletop Games\",\"slug\":\"games...</td>\n",
       "      <td>16233</td>\n",
       "      <td>US</td>\n",
       "      <td>the United States</td>\n",
       "      <td>1576048498</td>\n",
       "      <td>{\"id\":99575233,\"name\":\"David Gerrard\",\"is_regi...</td>\n",
       "      <td>USD</td>\n",
       "      <td>$</td>\n",
       "      <td>...</td>\n",
       "      <td>slip-strike-0</td>\n",
       "      <td>https://www.kickstarter.com/discover/categorie...</td>\n",
       "      <td>True</td>\n",
       "      <td>False</td>\n",
       "      <td>successful</td>\n",
       "      <td>1583987400</td>\n",
       "      <td>1.000000</td>\n",
       "      <td>{\"web\":{\"project\":\"https://www.kickstarter.com...</td>\n",
       "      <td>1.623300e+04</td>\n",
       "      <td>domestic</td>\n",
       "    </tr>\n",
       "    <tr>\n",
       "      <th>2</th>\n",
       "      <td>50</td>\n",
       "      <td>A collection of Hard Enamel pins inspired by T...</td>\n",
       "      <td>{\"id\":262,\"name\":\"Accessories\",\"slug\":\"fashion...</td>\n",
       "      <td>983</td>\n",
       "      <td>CA</td>\n",
       "      <td>Canada</td>\n",
       "      <td>1560821709</td>\n",
       "      <td>{\"id\":1855173855,\"name\":\"Caitlin Peters\",\"slug...</td>\n",
       "      <td>CAD</td>\n",
       "      <td>$</td>\n",
       "      <td>...</td>\n",
       "      <td>tattoo-shop-flash</td>\n",
       "      <td>https://www.kickstarter.com/discover/categorie...</td>\n",
       "      <td>True</td>\n",
       "      <td>False</td>\n",
       "      <td>successful</td>\n",
       "      <td>1564165825</td>\n",
       "      <td>0.762900</td>\n",
       "      <td>{\"web\":{\"project\":\"https://www.kickstarter.com...</td>\n",
       "      <td>9.874137e+02</td>\n",
       "      <td>domestic</td>\n",
       "    </tr>\n",
       "    <tr>\n",
       "      <th>3</th>\n",
       "      <td>8</td>\n",
       "      <td>Low carb, no sugar sauces and marinades using ...</td>\n",
       "      <td>{\"id\":313,\"name\":\"Small Batch\",\"slug\":\"food/sm...</td>\n",
       "      <td>361</td>\n",
       "      <td>US</td>\n",
       "      <td>the United States</td>\n",
       "      <td>1563139848</td>\n",
       "      <td>{\"id\":1148188586,\"name\":\"Ian\",\"slug\":\"penningt...</td>\n",
       "      <td>USD</td>\n",
       "      <td>$</td>\n",
       "      <td>...</td>\n",
       "      <td>penningtons-keto-sauces-and-marinades</td>\n",
       "      <td>https://www.kickstarter.com/discover/categorie...</td>\n",
       "      <td>False</td>\n",
       "      <td>False</td>\n",
       "      <td>failed</td>\n",
       "      <td>1569530544</td>\n",
       "      <td>1.000000</td>\n",
       "      <td>{\"web\":{\"project\":\"https://www.kickstarter.com...</td>\n",
       "      <td>3.610000e+02</td>\n",
       "      <td>domestic</td>\n",
       "    </tr>\n",
       "    <tr>\n",
       "      <th>4</th>\n",
       "      <td>6452</td>\n",
       "      <td>The everyday bag fused with Parisian chic and ...</td>\n",
       "      <td>{\"id\":28,\"name\":\"Product Design\",\"slug\":\"desig...</td>\n",
       "      <td>1385803</td>\n",
       "      <td>US</td>\n",
       "      <td>the United States</td>\n",
       "      <td>1561364892</td>\n",
       "      <td>{\"id\":1085606247,\"name\":\"Laflore\",\"slug\":\"bobo...</td>\n",
       "      <td>USD</td>\n",
       "      <td>$</td>\n",
       "      <td>...</td>\n",
       "      <td>bobobark-designed-for-women-made-for-life</td>\n",
       "      <td>https://www.kickstarter.com/discover/categorie...</td>\n",
       "      <td>True</td>\n",
       "      <td>False</td>\n",
       "      <td>successful</td>\n",
       "      <td>1568408340</td>\n",
       "      <td>1.000000</td>\n",
       "      <td>{\"web\":{\"project\":\"https://www.kickstarter.com...</td>\n",
       "      <td>1.385803e+06</td>\n",
       "      <td>domestic</td>\n",
       "    </tr>\n",
       "  </tbody>\n",
       "</table>\n",
       "<p>5 rows × 34 columns</p>\n",
       "</div>"
      ],
      "text/plain": [
       "   backers_count                                              blurb  \\\n",
       "0              1  we are going Production herbal teabag of  plan...   \n",
       "1            637  Two agents battle each other in another dimens...   \n",
       "2             50  A collection of Hard Enamel pins inspired by T...   \n",
       "3              8  Low carb, no sugar sauces and marinades using ...   \n",
       "4           6452  The everyday bag fused with Parisian chic and ...   \n",
       "\n",
       "                                            category  \\\n",
       "0  {\"id\":313,\"name\":\"Small Batch\",\"slug\":\"food/sm...   \n",
       "1  {\"id\":34,\"name\":\"Tabletop Games\",\"slug\":\"games...   \n",
       "2  {\"id\":262,\"name\":\"Accessories\",\"slug\":\"fashion...   \n",
       "3  {\"id\":313,\"name\":\"Small Batch\",\"slug\":\"food/sm...   \n",
       "4  {\"id\":28,\"name\":\"Product Design\",\"slug\":\"desig...   \n",
       "\n",
       "   converted_pledged_amount country country_displayable_name  created_at  \\\n",
       "0                        19      AU                Australia  1441269202   \n",
       "1                     16233      US        the United States  1576048498   \n",
       "2                       983      CA                   Canada  1560821709   \n",
       "3                       361      US        the United States  1563139848   \n",
       "4                   1385803      US        the United States  1561364892   \n",
       "\n",
       "                                             creator currency currency_symbol  \\\n",
       "0  {\"id\":1555219532,\"name\":\"ehsan\",\"is_registered...      AUD               $   \n",
       "1  {\"id\":99575233,\"name\":\"David Gerrard\",\"is_regi...      USD               $   \n",
       "2  {\"id\":1855173855,\"name\":\"Caitlin Peters\",\"slug...      CAD               $   \n",
       "3  {\"id\":1148188586,\"name\":\"Ian\",\"slug\":\"penningt...      USD               $   \n",
       "4  {\"id\":1085606247,\"name\":\"Laflore\",\"slug\":\"bobo...      USD               $   \n",
       "\n",
       "   ...                                               slug  \\\n",
       "0  ...  production-herbal-teabag-of-plants-native-to-iran   \n",
       "1  ...                                      slip-strike-0   \n",
       "2  ...                                  tattoo-shop-flash   \n",
       "3  ...              penningtons-keto-sauces-and-marinades   \n",
       "4  ...          bobobark-designed-for-women-made-for-life   \n",
       "\n",
       "                                          source_url  spotlight  staff_pick  \\\n",
       "0  https://www.kickstarter.com/discover/categorie...      False       False   \n",
       "1  https://www.kickstarter.com/discover/categorie...       True       False   \n",
       "2  https://www.kickstarter.com/discover/categorie...       True       False   \n",
       "3  https://www.kickstarter.com/discover/categorie...      False       False   \n",
       "4  https://www.kickstarter.com/discover/categorie...       True       False   \n",
       "\n",
       "        state  state_changed_at  static_usd_rate  \\\n",
       "0      failed        1444141184         0.691164   \n",
       "1  successful        1583987400         1.000000   \n",
       "2  successful        1564165825         0.762900   \n",
       "3      failed        1569530544         1.000000   \n",
       "4  successful        1568408340         1.000000   \n",
       "\n",
       "                                                urls   usd_pledged  usd_type  \n",
       "0  {\"web\":{\"project\":\"https://www.kickstarter.com...  1.866144e+01  domestic  \n",
       "1  {\"web\":{\"project\":\"https://www.kickstarter.com...  1.623300e+04  domestic  \n",
       "2  {\"web\":{\"project\":\"https://www.kickstarter.com...  9.874137e+02  domestic  \n",
       "3  {\"web\":{\"project\":\"https://www.kickstarter.com...  3.610000e+02  domestic  \n",
       "4  {\"web\":{\"project\":\"https://www.kickstarter.com...  1.385803e+06  domestic  \n",
       "\n",
       "[5 rows x 34 columns]"
      ]
     },
     "execution_count": 14,
     "metadata": {},
     "output_type": "execute_result"
    }
   ],
   "source": [
    "df.head()"
   ]
  },
  {
   "cell_type": "code",
   "execution_count": 15,
   "metadata": {},
   "outputs": [],
   "source": [
    "# df['created_at'] = pd.to_datetime(df['created_at']).dt.date"
   ]
  },
  {
   "cell_type": "code",
   "execution_count": 16,
   "metadata": {},
   "outputs": [
    {
     "data": {
      "text/html": [
       "<div>\n",
       "<style scoped>\n",
       "    .dataframe tbody tr th:only-of-type {\n",
       "        vertical-align: middle;\n",
       "    }\n",
       "\n",
       "    .dataframe tbody tr th {\n",
       "        vertical-align: top;\n",
       "    }\n",
       "\n",
       "    .dataframe thead th {\n",
       "        text-align: right;\n",
       "    }\n",
       "</style>\n",
       "<table border=\"1\" class=\"dataframe\">\n",
       "  <thead>\n",
       "    <tr style=\"text-align: right;\">\n",
       "      <th></th>\n",
       "      <th>backers_count</th>\n",
       "      <th>blurb</th>\n",
       "      <th>category</th>\n",
       "      <th>converted_pledged_amount</th>\n",
       "      <th>country</th>\n",
       "      <th>country_displayable_name</th>\n",
       "      <th>created_at</th>\n",
       "      <th>creator</th>\n",
       "      <th>currency</th>\n",
       "      <th>currency_symbol</th>\n",
       "      <th>...</th>\n",
       "      <th>slug</th>\n",
       "      <th>source_url</th>\n",
       "      <th>spotlight</th>\n",
       "      <th>staff_pick</th>\n",
       "      <th>state</th>\n",
       "      <th>state_changed_at</th>\n",
       "      <th>static_usd_rate</th>\n",
       "      <th>urls</th>\n",
       "      <th>usd_pledged</th>\n",
       "      <th>usd_type</th>\n",
       "    </tr>\n",
       "  </thead>\n",
       "  <tbody>\n",
       "    <tr>\n",
       "      <th>0</th>\n",
       "      <td>1</td>\n",
       "      <td>we are going Production herbal teabag of  plan...</td>\n",
       "      <td>{\"id\":313,\"name\":\"Small Batch\",\"slug\":\"food/sm...</td>\n",
       "      <td>19</td>\n",
       "      <td>AU</td>\n",
       "      <td>Australia</td>\n",
       "      <td>1441269202</td>\n",
       "      <td>{\"id\":1555219532,\"name\":\"ehsan\",\"is_registered...</td>\n",
       "      <td>AUD</td>\n",
       "      <td>$</td>\n",
       "      <td>...</td>\n",
       "      <td>production-herbal-teabag-of-plants-native-to-iran</td>\n",
       "      <td>https://www.kickstarter.com/discover/categorie...</td>\n",
       "      <td>False</td>\n",
       "      <td>False</td>\n",
       "      <td>failed</td>\n",
       "      <td>1444141184</td>\n",
       "      <td>0.691164</td>\n",
       "      <td>{\"web\":{\"project\":\"https://www.kickstarter.com...</td>\n",
       "      <td>1.866144e+01</td>\n",
       "      <td>domestic</td>\n",
       "    </tr>\n",
       "    <tr>\n",
       "      <th>1</th>\n",
       "      <td>637</td>\n",
       "      <td>Two agents battle each other in another dimens...</td>\n",
       "      <td>{\"id\":34,\"name\":\"Tabletop Games\",\"slug\":\"games...</td>\n",
       "      <td>16233</td>\n",
       "      <td>US</td>\n",
       "      <td>the United States</td>\n",
       "      <td>1576048498</td>\n",
       "      <td>{\"id\":99575233,\"name\":\"David Gerrard\",\"is_regi...</td>\n",
       "      <td>USD</td>\n",
       "      <td>$</td>\n",
       "      <td>...</td>\n",
       "      <td>slip-strike-0</td>\n",
       "      <td>https://www.kickstarter.com/discover/categorie...</td>\n",
       "      <td>True</td>\n",
       "      <td>False</td>\n",
       "      <td>successful</td>\n",
       "      <td>1583987400</td>\n",
       "      <td>1.000000</td>\n",
       "      <td>{\"web\":{\"project\":\"https://www.kickstarter.com...</td>\n",
       "      <td>1.623300e+04</td>\n",
       "      <td>domestic</td>\n",
       "    </tr>\n",
       "    <tr>\n",
       "      <th>2</th>\n",
       "      <td>50</td>\n",
       "      <td>A collection of Hard Enamel pins inspired by T...</td>\n",
       "      <td>{\"id\":262,\"name\":\"Accessories\",\"slug\":\"fashion...</td>\n",
       "      <td>983</td>\n",
       "      <td>CA</td>\n",
       "      <td>Canada</td>\n",
       "      <td>1560821709</td>\n",
       "      <td>{\"id\":1855173855,\"name\":\"Caitlin Peters\",\"slug...</td>\n",
       "      <td>CAD</td>\n",
       "      <td>$</td>\n",
       "      <td>...</td>\n",
       "      <td>tattoo-shop-flash</td>\n",
       "      <td>https://www.kickstarter.com/discover/categorie...</td>\n",
       "      <td>True</td>\n",
       "      <td>False</td>\n",
       "      <td>successful</td>\n",
       "      <td>1564165825</td>\n",
       "      <td>0.762900</td>\n",
       "      <td>{\"web\":{\"project\":\"https://www.kickstarter.com...</td>\n",
       "      <td>9.874137e+02</td>\n",
       "      <td>domestic</td>\n",
       "    </tr>\n",
       "    <tr>\n",
       "      <th>3</th>\n",
       "      <td>8</td>\n",
       "      <td>Low carb, no sugar sauces and marinades using ...</td>\n",
       "      <td>{\"id\":313,\"name\":\"Small Batch\",\"slug\":\"food/sm...</td>\n",
       "      <td>361</td>\n",
       "      <td>US</td>\n",
       "      <td>the United States</td>\n",
       "      <td>1563139848</td>\n",
       "      <td>{\"id\":1148188586,\"name\":\"Ian\",\"slug\":\"penningt...</td>\n",
       "      <td>USD</td>\n",
       "      <td>$</td>\n",
       "      <td>...</td>\n",
       "      <td>penningtons-keto-sauces-and-marinades</td>\n",
       "      <td>https://www.kickstarter.com/discover/categorie...</td>\n",
       "      <td>False</td>\n",
       "      <td>False</td>\n",
       "      <td>failed</td>\n",
       "      <td>1569530544</td>\n",
       "      <td>1.000000</td>\n",
       "      <td>{\"web\":{\"project\":\"https://www.kickstarter.com...</td>\n",
       "      <td>3.610000e+02</td>\n",
       "      <td>domestic</td>\n",
       "    </tr>\n",
       "    <tr>\n",
       "      <th>4</th>\n",
       "      <td>6452</td>\n",
       "      <td>The everyday bag fused with Parisian chic and ...</td>\n",
       "      <td>{\"id\":28,\"name\":\"Product Design\",\"slug\":\"desig...</td>\n",
       "      <td>1385803</td>\n",
       "      <td>US</td>\n",
       "      <td>the United States</td>\n",
       "      <td>1561364892</td>\n",
       "      <td>{\"id\":1085606247,\"name\":\"Laflore\",\"slug\":\"bobo...</td>\n",
       "      <td>USD</td>\n",
       "      <td>$</td>\n",
       "      <td>...</td>\n",
       "      <td>bobobark-designed-for-women-made-for-life</td>\n",
       "      <td>https://www.kickstarter.com/discover/categorie...</td>\n",
       "      <td>True</td>\n",
       "      <td>False</td>\n",
       "      <td>successful</td>\n",
       "      <td>1568408340</td>\n",
       "      <td>1.000000</td>\n",
       "      <td>{\"web\":{\"project\":\"https://www.kickstarter.com...</td>\n",
       "      <td>1.385803e+06</td>\n",
       "      <td>domestic</td>\n",
       "    </tr>\n",
       "  </tbody>\n",
       "</table>\n",
       "<p>5 rows × 34 columns</p>\n",
       "</div>"
      ],
      "text/plain": [
       "   backers_count                                              blurb  \\\n",
       "0              1  we are going Production herbal teabag of  plan...   \n",
       "1            637  Two agents battle each other in another dimens...   \n",
       "2             50  A collection of Hard Enamel pins inspired by T...   \n",
       "3              8  Low carb, no sugar sauces and marinades using ...   \n",
       "4           6452  The everyday bag fused with Parisian chic and ...   \n",
       "\n",
       "                                            category  \\\n",
       "0  {\"id\":313,\"name\":\"Small Batch\",\"slug\":\"food/sm...   \n",
       "1  {\"id\":34,\"name\":\"Tabletop Games\",\"slug\":\"games...   \n",
       "2  {\"id\":262,\"name\":\"Accessories\",\"slug\":\"fashion...   \n",
       "3  {\"id\":313,\"name\":\"Small Batch\",\"slug\":\"food/sm...   \n",
       "4  {\"id\":28,\"name\":\"Product Design\",\"slug\":\"desig...   \n",
       "\n",
       "   converted_pledged_amount country country_displayable_name  created_at  \\\n",
       "0                        19      AU                Australia  1441269202   \n",
       "1                     16233      US        the United States  1576048498   \n",
       "2                       983      CA                   Canada  1560821709   \n",
       "3                       361      US        the United States  1563139848   \n",
       "4                   1385803      US        the United States  1561364892   \n",
       "\n",
       "                                             creator currency currency_symbol  \\\n",
       "0  {\"id\":1555219532,\"name\":\"ehsan\",\"is_registered...      AUD               $   \n",
       "1  {\"id\":99575233,\"name\":\"David Gerrard\",\"is_regi...      USD               $   \n",
       "2  {\"id\":1855173855,\"name\":\"Caitlin Peters\",\"slug...      CAD               $   \n",
       "3  {\"id\":1148188586,\"name\":\"Ian\",\"slug\":\"penningt...      USD               $   \n",
       "4  {\"id\":1085606247,\"name\":\"Laflore\",\"slug\":\"bobo...      USD               $   \n",
       "\n",
       "   ...                                               slug  \\\n",
       "0  ...  production-herbal-teabag-of-plants-native-to-iran   \n",
       "1  ...                                      slip-strike-0   \n",
       "2  ...                                  tattoo-shop-flash   \n",
       "3  ...              penningtons-keto-sauces-and-marinades   \n",
       "4  ...          bobobark-designed-for-women-made-for-life   \n",
       "\n",
       "                                          source_url  spotlight  staff_pick  \\\n",
       "0  https://www.kickstarter.com/discover/categorie...      False       False   \n",
       "1  https://www.kickstarter.com/discover/categorie...       True       False   \n",
       "2  https://www.kickstarter.com/discover/categorie...       True       False   \n",
       "3  https://www.kickstarter.com/discover/categorie...      False       False   \n",
       "4  https://www.kickstarter.com/discover/categorie...       True       False   \n",
       "\n",
       "        state  state_changed_at  static_usd_rate  \\\n",
       "0      failed        1444141184         0.691164   \n",
       "1  successful        1583987400         1.000000   \n",
       "2  successful        1564165825         0.762900   \n",
       "3      failed        1569530544         1.000000   \n",
       "4  successful        1568408340         1.000000   \n",
       "\n",
       "                                                urls   usd_pledged  usd_type  \n",
       "0  {\"web\":{\"project\":\"https://www.kickstarter.com...  1.866144e+01  domestic  \n",
       "1  {\"web\":{\"project\":\"https://www.kickstarter.com...  1.623300e+04  domestic  \n",
       "2  {\"web\":{\"project\":\"https://www.kickstarter.com...  9.874137e+02  domestic  \n",
       "3  {\"web\":{\"project\":\"https://www.kickstarter.com...  3.610000e+02  domestic  \n",
       "4  {\"web\":{\"project\":\"https://www.kickstarter.com...  1.385803e+06  domestic  \n",
       "\n",
       "[5 rows x 34 columns]"
      ]
     },
     "execution_count": 16,
     "metadata": {},
     "output_type": "execute_result"
    }
   ],
   "source": [
    "df.head()"
   ]
  },
  {
   "cell_type": "code",
   "execution_count": 17,
   "metadata": {},
   "outputs": [],
   "source": [
    "# df.set_index('created_at', inplace=True)"
   ]
  },
  {
   "cell_type": "code",
   "execution_count": 18,
   "metadata": {},
   "outputs": [
    {
     "data": {
      "text/html": [
       "<div>\n",
       "<style scoped>\n",
       "    .dataframe tbody tr th:only-of-type {\n",
       "        vertical-align: middle;\n",
       "    }\n",
       "\n",
       "    .dataframe tbody tr th {\n",
       "        vertical-align: top;\n",
       "    }\n",
       "\n",
       "    .dataframe thead th {\n",
       "        text-align: right;\n",
       "    }\n",
       "</style>\n",
       "<table border=\"1\" class=\"dataframe\">\n",
       "  <thead>\n",
       "    <tr style=\"text-align: right;\">\n",
       "      <th></th>\n",
       "      <th>backers_count</th>\n",
       "      <th>blurb</th>\n",
       "      <th>category</th>\n",
       "      <th>converted_pledged_amount</th>\n",
       "      <th>country</th>\n",
       "      <th>country_displayable_name</th>\n",
       "      <th>created_at</th>\n",
       "      <th>creator</th>\n",
       "      <th>currency</th>\n",
       "      <th>currency_symbol</th>\n",
       "      <th>...</th>\n",
       "      <th>slug</th>\n",
       "      <th>source_url</th>\n",
       "      <th>spotlight</th>\n",
       "      <th>staff_pick</th>\n",
       "      <th>state</th>\n",
       "      <th>state_changed_at</th>\n",
       "      <th>static_usd_rate</th>\n",
       "      <th>urls</th>\n",
       "      <th>usd_pledged</th>\n",
       "      <th>usd_type</th>\n",
       "    </tr>\n",
       "  </thead>\n",
       "  <tbody>\n",
       "    <tr>\n",
       "      <th>0</th>\n",
       "      <td>1</td>\n",
       "      <td>we are going Production herbal teabag of  plan...</td>\n",
       "      <td>{\"id\":313,\"name\":\"Small Batch\",\"slug\":\"food/sm...</td>\n",
       "      <td>19</td>\n",
       "      <td>AU</td>\n",
       "      <td>Australia</td>\n",
       "      <td>1441269202</td>\n",
       "      <td>{\"id\":1555219532,\"name\":\"ehsan\",\"is_registered...</td>\n",
       "      <td>AUD</td>\n",
       "      <td>$</td>\n",
       "      <td>...</td>\n",
       "      <td>production-herbal-teabag-of-plants-native-to-iran</td>\n",
       "      <td>https://www.kickstarter.com/discover/categorie...</td>\n",
       "      <td>False</td>\n",
       "      <td>False</td>\n",
       "      <td>failed</td>\n",
       "      <td>1444141184</td>\n",
       "      <td>0.691164</td>\n",
       "      <td>{\"web\":{\"project\":\"https://www.kickstarter.com...</td>\n",
       "      <td>1.866144e+01</td>\n",
       "      <td>domestic</td>\n",
       "    </tr>\n",
       "    <tr>\n",
       "      <th>1</th>\n",
       "      <td>637</td>\n",
       "      <td>Two agents battle each other in another dimens...</td>\n",
       "      <td>{\"id\":34,\"name\":\"Tabletop Games\",\"slug\":\"games...</td>\n",
       "      <td>16233</td>\n",
       "      <td>US</td>\n",
       "      <td>the United States</td>\n",
       "      <td>1576048498</td>\n",
       "      <td>{\"id\":99575233,\"name\":\"David Gerrard\",\"is_regi...</td>\n",
       "      <td>USD</td>\n",
       "      <td>$</td>\n",
       "      <td>...</td>\n",
       "      <td>slip-strike-0</td>\n",
       "      <td>https://www.kickstarter.com/discover/categorie...</td>\n",
       "      <td>True</td>\n",
       "      <td>False</td>\n",
       "      <td>successful</td>\n",
       "      <td>1583987400</td>\n",
       "      <td>1.000000</td>\n",
       "      <td>{\"web\":{\"project\":\"https://www.kickstarter.com...</td>\n",
       "      <td>1.623300e+04</td>\n",
       "      <td>domestic</td>\n",
       "    </tr>\n",
       "    <tr>\n",
       "      <th>2</th>\n",
       "      <td>50</td>\n",
       "      <td>A collection of Hard Enamel pins inspired by T...</td>\n",
       "      <td>{\"id\":262,\"name\":\"Accessories\",\"slug\":\"fashion...</td>\n",
       "      <td>983</td>\n",
       "      <td>CA</td>\n",
       "      <td>Canada</td>\n",
       "      <td>1560821709</td>\n",
       "      <td>{\"id\":1855173855,\"name\":\"Caitlin Peters\",\"slug...</td>\n",
       "      <td>CAD</td>\n",
       "      <td>$</td>\n",
       "      <td>...</td>\n",
       "      <td>tattoo-shop-flash</td>\n",
       "      <td>https://www.kickstarter.com/discover/categorie...</td>\n",
       "      <td>True</td>\n",
       "      <td>False</td>\n",
       "      <td>successful</td>\n",
       "      <td>1564165825</td>\n",
       "      <td>0.762900</td>\n",
       "      <td>{\"web\":{\"project\":\"https://www.kickstarter.com...</td>\n",
       "      <td>9.874137e+02</td>\n",
       "      <td>domestic</td>\n",
       "    </tr>\n",
       "    <tr>\n",
       "      <th>3</th>\n",
       "      <td>8</td>\n",
       "      <td>Low carb, no sugar sauces and marinades using ...</td>\n",
       "      <td>{\"id\":313,\"name\":\"Small Batch\",\"slug\":\"food/sm...</td>\n",
       "      <td>361</td>\n",
       "      <td>US</td>\n",
       "      <td>the United States</td>\n",
       "      <td>1563139848</td>\n",
       "      <td>{\"id\":1148188586,\"name\":\"Ian\",\"slug\":\"penningt...</td>\n",
       "      <td>USD</td>\n",
       "      <td>$</td>\n",
       "      <td>...</td>\n",
       "      <td>penningtons-keto-sauces-and-marinades</td>\n",
       "      <td>https://www.kickstarter.com/discover/categorie...</td>\n",
       "      <td>False</td>\n",
       "      <td>False</td>\n",
       "      <td>failed</td>\n",
       "      <td>1569530544</td>\n",
       "      <td>1.000000</td>\n",
       "      <td>{\"web\":{\"project\":\"https://www.kickstarter.com...</td>\n",
       "      <td>3.610000e+02</td>\n",
       "      <td>domestic</td>\n",
       "    </tr>\n",
       "    <tr>\n",
       "      <th>4</th>\n",
       "      <td>6452</td>\n",
       "      <td>The everyday bag fused with Parisian chic and ...</td>\n",
       "      <td>{\"id\":28,\"name\":\"Product Design\",\"slug\":\"desig...</td>\n",
       "      <td>1385803</td>\n",
       "      <td>US</td>\n",
       "      <td>the United States</td>\n",
       "      <td>1561364892</td>\n",
       "      <td>{\"id\":1085606247,\"name\":\"Laflore\",\"slug\":\"bobo...</td>\n",
       "      <td>USD</td>\n",
       "      <td>$</td>\n",
       "      <td>...</td>\n",
       "      <td>bobobark-designed-for-women-made-for-life</td>\n",
       "      <td>https://www.kickstarter.com/discover/categorie...</td>\n",
       "      <td>True</td>\n",
       "      <td>False</td>\n",
       "      <td>successful</td>\n",
       "      <td>1568408340</td>\n",
       "      <td>1.000000</td>\n",
       "      <td>{\"web\":{\"project\":\"https://www.kickstarter.com...</td>\n",
       "      <td>1.385803e+06</td>\n",
       "      <td>domestic</td>\n",
       "    </tr>\n",
       "  </tbody>\n",
       "</table>\n",
       "<p>5 rows × 34 columns</p>\n",
       "</div>"
      ],
      "text/plain": [
       "   backers_count                                              blurb  \\\n",
       "0              1  we are going Production herbal teabag of  plan...   \n",
       "1            637  Two agents battle each other in another dimens...   \n",
       "2             50  A collection of Hard Enamel pins inspired by T...   \n",
       "3              8  Low carb, no sugar sauces and marinades using ...   \n",
       "4           6452  The everyday bag fused with Parisian chic and ...   \n",
       "\n",
       "                                            category  \\\n",
       "0  {\"id\":313,\"name\":\"Small Batch\",\"slug\":\"food/sm...   \n",
       "1  {\"id\":34,\"name\":\"Tabletop Games\",\"slug\":\"games...   \n",
       "2  {\"id\":262,\"name\":\"Accessories\",\"slug\":\"fashion...   \n",
       "3  {\"id\":313,\"name\":\"Small Batch\",\"slug\":\"food/sm...   \n",
       "4  {\"id\":28,\"name\":\"Product Design\",\"slug\":\"desig...   \n",
       "\n",
       "   converted_pledged_amount country country_displayable_name  created_at  \\\n",
       "0                        19      AU                Australia  1441269202   \n",
       "1                     16233      US        the United States  1576048498   \n",
       "2                       983      CA                   Canada  1560821709   \n",
       "3                       361      US        the United States  1563139848   \n",
       "4                   1385803      US        the United States  1561364892   \n",
       "\n",
       "                                             creator currency currency_symbol  \\\n",
       "0  {\"id\":1555219532,\"name\":\"ehsan\",\"is_registered...      AUD               $   \n",
       "1  {\"id\":99575233,\"name\":\"David Gerrard\",\"is_regi...      USD               $   \n",
       "2  {\"id\":1855173855,\"name\":\"Caitlin Peters\",\"slug...      CAD               $   \n",
       "3  {\"id\":1148188586,\"name\":\"Ian\",\"slug\":\"penningt...      USD               $   \n",
       "4  {\"id\":1085606247,\"name\":\"Laflore\",\"slug\":\"bobo...      USD               $   \n",
       "\n",
       "   ...                                               slug  \\\n",
       "0  ...  production-herbal-teabag-of-plants-native-to-iran   \n",
       "1  ...                                      slip-strike-0   \n",
       "2  ...                                  tattoo-shop-flash   \n",
       "3  ...              penningtons-keto-sauces-and-marinades   \n",
       "4  ...          bobobark-designed-for-women-made-for-life   \n",
       "\n",
       "                                          source_url  spotlight  staff_pick  \\\n",
       "0  https://www.kickstarter.com/discover/categorie...      False       False   \n",
       "1  https://www.kickstarter.com/discover/categorie...       True       False   \n",
       "2  https://www.kickstarter.com/discover/categorie...       True       False   \n",
       "3  https://www.kickstarter.com/discover/categorie...      False       False   \n",
       "4  https://www.kickstarter.com/discover/categorie...       True       False   \n",
       "\n",
       "        state  state_changed_at  static_usd_rate  \\\n",
       "0      failed        1444141184         0.691164   \n",
       "1  successful        1583987400         1.000000   \n",
       "2  successful        1564165825         0.762900   \n",
       "3      failed        1569530544         1.000000   \n",
       "4  successful        1568408340         1.000000   \n",
       "\n",
       "                                                urls   usd_pledged  usd_type  \n",
       "0  {\"web\":{\"project\":\"https://www.kickstarter.com...  1.866144e+01  domestic  \n",
       "1  {\"web\":{\"project\":\"https://www.kickstarter.com...  1.623300e+04  domestic  \n",
       "2  {\"web\":{\"project\":\"https://www.kickstarter.com...  9.874137e+02  domestic  \n",
       "3  {\"web\":{\"project\":\"https://www.kickstarter.com...  3.610000e+02  domestic  \n",
       "4  {\"web\":{\"project\":\"https://www.kickstarter.com...  1.385803e+06  domestic  \n",
       "\n",
       "[5 rows x 34 columns]"
      ]
     },
     "execution_count": 18,
     "metadata": {},
     "output_type": "execute_result"
    }
   ],
   "source": [
    "df.head()"
   ]
  },
  {
   "cell_type": "code",
   "execution_count": 19,
   "metadata": {},
   "outputs": [],
   "source": [
    "# df.sort_index(inplace=True)"
   ]
  },
  {
   "cell_type": "code",
   "execution_count": 20,
   "metadata": {},
   "outputs": [
    {
     "data": {
      "text/html": [
       "<div>\n",
       "<style scoped>\n",
       "    .dataframe tbody tr th:only-of-type {\n",
       "        vertical-align: middle;\n",
       "    }\n",
       "\n",
       "    .dataframe tbody tr th {\n",
       "        vertical-align: top;\n",
       "    }\n",
       "\n",
       "    .dataframe thead th {\n",
       "        text-align: right;\n",
       "    }\n",
       "</style>\n",
       "<table border=\"1\" class=\"dataframe\">\n",
       "  <thead>\n",
       "    <tr style=\"text-align: right;\">\n",
       "      <th></th>\n",
       "      <th>backers_count</th>\n",
       "      <th>blurb</th>\n",
       "      <th>category</th>\n",
       "      <th>converted_pledged_amount</th>\n",
       "      <th>country</th>\n",
       "      <th>country_displayable_name</th>\n",
       "      <th>created_at</th>\n",
       "      <th>creator</th>\n",
       "      <th>currency</th>\n",
       "      <th>currency_symbol</th>\n",
       "      <th>...</th>\n",
       "      <th>slug</th>\n",
       "      <th>source_url</th>\n",
       "      <th>spotlight</th>\n",
       "      <th>staff_pick</th>\n",
       "      <th>state</th>\n",
       "      <th>state_changed_at</th>\n",
       "      <th>static_usd_rate</th>\n",
       "      <th>urls</th>\n",
       "      <th>usd_pledged</th>\n",
       "      <th>usd_type</th>\n",
       "    </tr>\n",
       "  </thead>\n",
       "  <tbody>\n",
       "    <tr>\n",
       "      <th>0</th>\n",
       "      <td>1</td>\n",
       "      <td>we are going Production herbal teabag of  plan...</td>\n",
       "      <td>{\"id\":313,\"name\":\"Small Batch\",\"slug\":\"food/sm...</td>\n",
       "      <td>19</td>\n",
       "      <td>AU</td>\n",
       "      <td>Australia</td>\n",
       "      <td>1441269202</td>\n",
       "      <td>{\"id\":1555219532,\"name\":\"ehsan\",\"is_registered...</td>\n",
       "      <td>AUD</td>\n",
       "      <td>$</td>\n",
       "      <td>...</td>\n",
       "      <td>production-herbal-teabag-of-plants-native-to-iran</td>\n",
       "      <td>https://www.kickstarter.com/discover/categorie...</td>\n",
       "      <td>False</td>\n",
       "      <td>False</td>\n",
       "      <td>failed</td>\n",
       "      <td>1444141184</td>\n",
       "      <td>0.691164</td>\n",
       "      <td>{\"web\":{\"project\":\"https://www.kickstarter.com...</td>\n",
       "      <td>1.866144e+01</td>\n",
       "      <td>domestic</td>\n",
       "    </tr>\n",
       "    <tr>\n",
       "      <th>1</th>\n",
       "      <td>637</td>\n",
       "      <td>Two agents battle each other in another dimens...</td>\n",
       "      <td>{\"id\":34,\"name\":\"Tabletop Games\",\"slug\":\"games...</td>\n",
       "      <td>16233</td>\n",
       "      <td>US</td>\n",
       "      <td>the United States</td>\n",
       "      <td>1576048498</td>\n",
       "      <td>{\"id\":99575233,\"name\":\"David Gerrard\",\"is_regi...</td>\n",
       "      <td>USD</td>\n",
       "      <td>$</td>\n",
       "      <td>...</td>\n",
       "      <td>slip-strike-0</td>\n",
       "      <td>https://www.kickstarter.com/discover/categorie...</td>\n",
       "      <td>True</td>\n",
       "      <td>False</td>\n",
       "      <td>successful</td>\n",
       "      <td>1583987400</td>\n",
       "      <td>1.000000</td>\n",
       "      <td>{\"web\":{\"project\":\"https://www.kickstarter.com...</td>\n",
       "      <td>1.623300e+04</td>\n",
       "      <td>domestic</td>\n",
       "    </tr>\n",
       "    <tr>\n",
       "      <th>2</th>\n",
       "      <td>50</td>\n",
       "      <td>A collection of Hard Enamel pins inspired by T...</td>\n",
       "      <td>{\"id\":262,\"name\":\"Accessories\",\"slug\":\"fashion...</td>\n",
       "      <td>983</td>\n",
       "      <td>CA</td>\n",
       "      <td>Canada</td>\n",
       "      <td>1560821709</td>\n",
       "      <td>{\"id\":1855173855,\"name\":\"Caitlin Peters\",\"slug...</td>\n",
       "      <td>CAD</td>\n",
       "      <td>$</td>\n",
       "      <td>...</td>\n",
       "      <td>tattoo-shop-flash</td>\n",
       "      <td>https://www.kickstarter.com/discover/categorie...</td>\n",
       "      <td>True</td>\n",
       "      <td>False</td>\n",
       "      <td>successful</td>\n",
       "      <td>1564165825</td>\n",
       "      <td>0.762900</td>\n",
       "      <td>{\"web\":{\"project\":\"https://www.kickstarter.com...</td>\n",
       "      <td>9.874137e+02</td>\n",
       "      <td>domestic</td>\n",
       "    </tr>\n",
       "    <tr>\n",
       "      <th>3</th>\n",
       "      <td>8</td>\n",
       "      <td>Low carb, no sugar sauces and marinades using ...</td>\n",
       "      <td>{\"id\":313,\"name\":\"Small Batch\",\"slug\":\"food/sm...</td>\n",
       "      <td>361</td>\n",
       "      <td>US</td>\n",
       "      <td>the United States</td>\n",
       "      <td>1563139848</td>\n",
       "      <td>{\"id\":1148188586,\"name\":\"Ian\",\"slug\":\"penningt...</td>\n",
       "      <td>USD</td>\n",
       "      <td>$</td>\n",
       "      <td>...</td>\n",
       "      <td>penningtons-keto-sauces-and-marinades</td>\n",
       "      <td>https://www.kickstarter.com/discover/categorie...</td>\n",
       "      <td>False</td>\n",
       "      <td>False</td>\n",
       "      <td>failed</td>\n",
       "      <td>1569530544</td>\n",
       "      <td>1.000000</td>\n",
       "      <td>{\"web\":{\"project\":\"https://www.kickstarter.com...</td>\n",
       "      <td>3.610000e+02</td>\n",
       "      <td>domestic</td>\n",
       "    </tr>\n",
       "    <tr>\n",
       "      <th>4</th>\n",
       "      <td>6452</td>\n",
       "      <td>The everyday bag fused with Parisian chic and ...</td>\n",
       "      <td>{\"id\":28,\"name\":\"Product Design\",\"slug\":\"desig...</td>\n",
       "      <td>1385803</td>\n",
       "      <td>US</td>\n",
       "      <td>the United States</td>\n",
       "      <td>1561364892</td>\n",
       "      <td>{\"id\":1085606247,\"name\":\"Laflore\",\"slug\":\"bobo...</td>\n",
       "      <td>USD</td>\n",
       "      <td>$</td>\n",
       "      <td>...</td>\n",
       "      <td>bobobark-designed-for-women-made-for-life</td>\n",
       "      <td>https://www.kickstarter.com/discover/categorie...</td>\n",
       "      <td>True</td>\n",
       "      <td>False</td>\n",
       "      <td>successful</td>\n",
       "      <td>1568408340</td>\n",
       "      <td>1.000000</td>\n",
       "      <td>{\"web\":{\"project\":\"https://www.kickstarter.com...</td>\n",
       "      <td>1.385803e+06</td>\n",
       "      <td>domestic</td>\n",
       "    </tr>\n",
       "  </tbody>\n",
       "</table>\n",
       "<p>5 rows × 34 columns</p>\n",
       "</div>"
      ],
      "text/plain": [
       "   backers_count                                              blurb  \\\n",
       "0              1  we are going Production herbal teabag of  plan...   \n",
       "1            637  Two agents battle each other in another dimens...   \n",
       "2             50  A collection of Hard Enamel pins inspired by T...   \n",
       "3              8  Low carb, no sugar sauces and marinades using ...   \n",
       "4           6452  The everyday bag fused with Parisian chic and ...   \n",
       "\n",
       "                                            category  \\\n",
       "0  {\"id\":313,\"name\":\"Small Batch\",\"slug\":\"food/sm...   \n",
       "1  {\"id\":34,\"name\":\"Tabletop Games\",\"slug\":\"games...   \n",
       "2  {\"id\":262,\"name\":\"Accessories\",\"slug\":\"fashion...   \n",
       "3  {\"id\":313,\"name\":\"Small Batch\",\"slug\":\"food/sm...   \n",
       "4  {\"id\":28,\"name\":\"Product Design\",\"slug\":\"desig...   \n",
       "\n",
       "   converted_pledged_amount country country_displayable_name  created_at  \\\n",
       "0                        19      AU                Australia  1441269202   \n",
       "1                     16233      US        the United States  1576048498   \n",
       "2                       983      CA                   Canada  1560821709   \n",
       "3                       361      US        the United States  1563139848   \n",
       "4                   1385803      US        the United States  1561364892   \n",
       "\n",
       "                                             creator currency currency_symbol  \\\n",
       "0  {\"id\":1555219532,\"name\":\"ehsan\",\"is_registered...      AUD               $   \n",
       "1  {\"id\":99575233,\"name\":\"David Gerrard\",\"is_regi...      USD               $   \n",
       "2  {\"id\":1855173855,\"name\":\"Caitlin Peters\",\"slug...      CAD               $   \n",
       "3  {\"id\":1148188586,\"name\":\"Ian\",\"slug\":\"penningt...      USD               $   \n",
       "4  {\"id\":1085606247,\"name\":\"Laflore\",\"slug\":\"bobo...      USD               $   \n",
       "\n",
       "   ...                                               slug  \\\n",
       "0  ...  production-herbal-teabag-of-plants-native-to-iran   \n",
       "1  ...                                      slip-strike-0   \n",
       "2  ...                                  tattoo-shop-flash   \n",
       "3  ...              penningtons-keto-sauces-and-marinades   \n",
       "4  ...          bobobark-designed-for-women-made-for-life   \n",
       "\n",
       "                                          source_url  spotlight  staff_pick  \\\n",
       "0  https://www.kickstarter.com/discover/categorie...      False       False   \n",
       "1  https://www.kickstarter.com/discover/categorie...       True       False   \n",
       "2  https://www.kickstarter.com/discover/categorie...       True       False   \n",
       "3  https://www.kickstarter.com/discover/categorie...      False       False   \n",
       "4  https://www.kickstarter.com/discover/categorie...       True       False   \n",
       "\n",
       "        state  state_changed_at  static_usd_rate  \\\n",
       "0      failed        1444141184         0.691164   \n",
       "1  successful        1583987400         1.000000   \n",
       "2  successful        1564165825         0.762900   \n",
       "3      failed        1569530544         1.000000   \n",
       "4  successful        1568408340         1.000000   \n",
       "\n",
       "                                                urls   usd_pledged  usd_type  \n",
       "0  {\"web\":{\"project\":\"https://www.kickstarter.com...  1.866144e+01  domestic  \n",
       "1  {\"web\":{\"project\":\"https://www.kickstarter.com...  1.623300e+04  domestic  \n",
       "2  {\"web\":{\"project\":\"https://www.kickstarter.com...  9.874137e+02  domestic  \n",
       "3  {\"web\":{\"project\":\"https://www.kickstarter.com...  3.610000e+02  domestic  \n",
       "4  {\"web\":{\"project\":\"https://www.kickstarter.com...  1.385803e+06  domestic  \n",
       "\n",
       "[5 rows x 34 columns]"
      ]
     },
     "execution_count": 20,
     "metadata": {},
     "output_type": "execute_result"
    }
   ],
   "source": [
    "df.head()"
   ]
  },
  {
   "cell_type": "code",
   "execution_count": 21,
   "metadata": {},
   "outputs": [
    {
     "data": {
      "text/plain": [
       "ALL-NEW SEXY BADGIRL characters from comic book INDIE legend Everette Hartsoe. 100% artwork in book                                       35\n",
       "A beautiful natural Fine art nude book exemplifying the female form presented by female producer Nina Vain.                               28\n",
       "Hard Enamel Pins                                                                                                                          22\n",
       "The Decentralized Dance Party was founded on the belief that Partying is an art form that has the power to change the world.              17\n",
       "Award Winning Footwear Designs | Crafted Using Italian Leathers with Bold and Comfortable Features | London Navy Men's Luxury Footwear    15\n",
       "                                                                                                                                          ..\n",
       "Brokntalk is a social game in which you listen to a line, repeat it as good as you can and get scored for how well you repeat it!          1\n",
       "\"Cities Without Houses\" is an avant garde instrumental album designed for Mantis ears.  Listen to it now at manmantis.bandcamp.com.        1\n",
       "A series of paintings, prints, and t-shirts based on my favorite foods.                                                                    1\n",
       "I designed some animal stickers. Come get some! They will be vinyl, matte, and custom-cut.                                                 1\n",
       "Issue #1 of The Chimp With The Brown Hat. A sci-fi western about a chimpanzee that fights bandits and space-worms in the Old West.         1\n",
       "Name: blurb, Length: 188013, dtype: int64"
      ]
     },
     "execution_count": 21,
     "metadata": {},
     "output_type": "execute_result"
    }
   ],
   "source": [
    "df.blurb.value_counts()"
   ]
  },
  {
   "cell_type": "code",
   "execution_count": 22,
   "metadata": {},
   "outputs": [
    {
     "data": {
      "text/plain": [
       "{\"id\":28,\"name\":\"Product Design\",\"slug\":\"design/product design\",\"position\":5,\"parent_id\":7,\"parent_name\":\"Design\",\"color\":2577151,\"urls\":{\"web\":{\"discover\":\"http://www.kickstarter.com/discover/categories/design/product%20design\"}}}       4411\n",
       "{\"id\":34,\"name\":\"Tabletop Games\",\"slug\":\"games/tabletop games\",\"position\":6,\"parent_id\":12,\"parent_name\":\"Games\",\"color\":51627,\"urls\":{\"web\":{\"discover\":\"http://www.kickstarter.com/discover/categories/games/tabletop%20games\"}}}           4050\n",
       "{\"id\":262,\"name\":\"Accessories\",\"slug\":\"fashion/accessories\",\"position\":1,\"parent_id\":9,\"parent_name\":\"Fashion\",\"color\":16752598,\"urls\":{\"web\":{\"discover\":\"http://www.kickstarter.com/discover/categories/fashion/accessories\"}}}             3690\n",
       "{\"id\":250,\"name\":\"Comic Books\",\"slug\":\"comics/comic books\",\"position\":2,\"parent_id\":3,\"parent_name\":\"Comics\",\"color\":16776056,\"urls\":{\"web\":{\"discover\":\"http://www.kickstarter.com/discover/categories/comics/comic%20books\"}}}              3559\n",
       "{\"id\":22,\"name\":\"Illustration\",\"slug\":\"art/illustration\",\"position\":4,\"parent_id\":1,\"parent_name\":\"Art\",\"color\":16760235,\"urls\":{\"web\":{\"discover\":\"http://www.kickstarter.com/discover/categories/art/illustration\"}}}                       3170\n",
       "                                                                                                                                                                                                                                              ... \n",
       "{\"id\":395,\"name\":\"Social Practice\",\"slug\":\"art/social practice\",\"position\":11,\"parent_id\":1,\"parent_name\":\"Art\",\"color\":16760235,\"urls\":{\"web\":{\"discover\":\"http://www.kickstarter.com/discover/categories/art/social%20practice\"}}}            79\n",
       "{\"id\":317,\"name\":\"Chiptune\",\"slug\":\"music/chiptune\",\"position\":2,\"parent_id\":14,\"parent_name\":\"Music\",\"color\":10878931,\"urls\":{\"web\":{\"discover\":\"http://www.kickstarter.com/discover/categories/music/chiptune\"}}}                             59\n",
       "{\"id\":310,\"name\":\"Farmer's Markets\",\"slug\":\"food/farmer's markets\",\"position\":6,\"parent_id\":10,\"parent_name\":\"Food\",\"color\":16725570,\"urls\":{\"web\":{\"discover\":\"http://www.kickstarter.com/discover/categories/food/farmer's%20markets\"}}}      28\n",
       "{\"id\":396,\"name\":\"Toys\",\"slug\":\"design/toys\",\"position\":6,\"parent_id\":7,\"parent_name\":\"Design\",\"color\":2577151,\"urls\":{\"web\":{\"discover\":\"http://www.kickstarter.com/discover/categories/design/toys\"}}}                                        16\n",
       "{\"id\":354,\"name\":\"Taxidermy\",\"slug\":\"crafts/taxidermy\",\"position\":12,\"parent_id\":26,\"parent_name\":\"Crafts\",\"color\":16744876,\"urls\":{\"web\":{\"discover\":\"http://www.kickstarter.com/discover/categories/crafts/taxidermy\"}}}                      13\n",
       "Name: category, Length: 171, dtype: int64"
      ]
     },
     "execution_count": 22,
     "metadata": {},
     "output_type": "execute_result"
    }
   ],
   "source": [
    "df.category.value_counts()"
   ]
  },
  {
   "cell_type": "code",
   "execution_count": 23,
   "metadata": {},
   "outputs": [],
   "source": [
    "df.country.value_counts()\n",
    "df.drop(['country'], axis=1, inplace=True)"
   ]
  },
  {
   "cell_type": "code",
   "execution_count": 24,
   "metadata": {},
   "outputs": [
    {
     "data": {
      "text/plain": [
       "the United States     149510\n",
       "the United Kingdom     25023\n",
       "Canada                 10232\n",
       "Australia               5190\n",
       "Germany                 3940\n",
       "France                  3138\n",
       "Mexico                  3054\n",
       "Italy                   2740\n",
       "Spain                   2462\n",
       "the Netherlands         1920\n",
       "Sweden                  1596\n",
       "Hong Kong               1538\n",
       "Denmark                  996\n",
       "New Zealand              964\n",
       "Singapore                884\n",
       "Switzerland              752\n",
       "Ireland                  709\n",
       "Belgium                  645\n",
       "Japan                    579\n",
       "Austria                  548\n",
       "Norway                   514\n",
       "Luxembourg                72\n",
       "Name: country_displayable_name, dtype: int64"
      ]
     },
     "execution_count": 24,
     "metadata": {},
     "output_type": "execute_result"
    }
   ],
   "source": [
    "df.country_displayable_name.value_counts()"
   ]
  },
  {
   "cell_type": "code",
   "execution_count": 25,
   "metadata": {},
   "outputs": [],
   "source": [
    "df.creator.value_counts()\n",
    "df.drop(['creator'], axis=1, inplace=True)"
   ]
  },
  {
   "cell_type": "code",
   "execution_count": 26,
   "metadata": {},
   "outputs": [
    {
     "data": {
      "text/plain": [
       "USD    149510\n",
       "GBP     25023\n",
       "EUR     16174\n",
       "CAD     10232\n",
       "AUD      5190\n",
       "MXN      3054\n",
       "SEK      1596\n",
       "HKD      1538\n",
       "DKK       996\n",
       "NZD       964\n",
       "SGD       884\n",
       "CHF       752\n",
       "JPY       579\n",
       "NOK       514\n",
       "Name: currency, dtype: int64"
      ]
     },
     "execution_count": 26,
     "metadata": {},
     "output_type": "execute_result"
    }
   ],
   "source": [
    "df.currency.value_counts()"
   ]
  },
  {
   "cell_type": "code",
   "execution_count": 27,
   "metadata": {},
   "outputs": [
    {
     "data": {
      "text/plain": [
       "$      171372\n",
       "£       25023\n",
       "€       16174\n",
       "kr       3106\n",
       "Fr        752\n",
       "¥         579\n",
       "Name: currency_symbol, dtype: int64"
      ]
     },
     "execution_count": 27,
     "metadata": {},
     "output_type": "execute_result"
    }
   ],
   "source": [
    "df.currency_symbol.value_counts()"
   ]
  },
  {
   "cell_type": "code",
   "execution_count": 28,
   "metadata": {},
   "outputs": [
    {
     "data": {
      "text/plain": [
       "True     174478\n",
       "False     42528\n",
       "Name: currency_trailing_code, dtype: int64"
      ]
     },
     "execution_count": 28,
     "metadata": {},
     "output_type": "execute_result"
    }
   ],
   "source": [
    "df.currency_trailing_code.value_counts()"
   ]
  },
  {
   "cell_type": "code",
   "execution_count": 29,
   "metadata": {},
   "outputs": [],
   "source": [
    "df.current_currency.value_counts()\n",
    "df.drop(['current_currency'], axis=1, inplace=True)"
   ]
  },
  {
   "cell_type": "code",
   "execution_count": 30,
   "metadata": {},
   "outputs": [],
   "source": [
    "df.disable_communication.value_counts()\n",
    "df.drop(['disable_communication'], axis=1, inplace=True)"
   ]
  },
  {
   "cell_type": "code",
   "execution_count": 31,
   "metadata": {},
   "outputs": [],
   "source": [
    "df.is_starrable.value_counts()\n",
    "df.drop(['is_starrable'], axis=1, inplace=True)"
   ]
  },
  {
   "cell_type": "code",
   "execution_count": 32,
   "metadata": {},
   "outputs": [],
   "source": [
    "df.location.value_counts()\n",
    "df.drop(['location'], axis=1, inplace=True)"
   ]
  },
  {
   "cell_type": "code",
   "execution_count": 33,
   "metadata": {},
   "outputs": [
    {
     "data": {
      "text/plain": [
       "Debut Album                                                     8\n",
       "Home                                                            8\n",
       "A Midsummer Night's Dream                                       7\n",
       "Reflections                                                     6\n",
       "My Hero Academia Enamel Pins                                    6\n",
       "                                                               ..\n",
       "Bohemian-Inspired and Modern Plus Size Clothes Sizes 14 - 30    1\n",
       "SUPER SQUARE CHAOS                                              1\n",
       "Storie Fantastiche di Gente Comune                              1\n",
       "Prison, And How It Affects Our Youth.                           1\n",
       "If everyone gave a dollar                                       1\n",
       "Name: name, Length: 188992, dtype: int64"
      ]
     },
     "execution_count": 33,
     "metadata": {},
     "output_type": "execute_result"
    }
   ],
   "source": [
    "df.name.value_counts()"
   ]
  },
  {
   "cell_type": "code",
   "execution_count": 34,
   "metadata": {},
   "outputs": [],
   "source": [
    "df.photo.value_counts()\n",
    "df.drop(['photo'], axis=1, inplace=True)"
   ]
  },
  {
   "cell_type": "code",
   "execution_count": 35,
   "metadata": {},
   "outputs": [],
   "source": [
    "df.profile.value_counts()\n",
    "df.drop(['profile'], axis=1, inplace=True)"
   ]
  },
  {
   "cell_type": "code",
   "execution_count": 36,
   "metadata": {},
   "outputs": [
    {
     "data": {
      "text/plain": [
       "infinite-academy-a-super-new-way-of-learning                  3\n",
       "final-clancy-cup-tournament-extended-cut                      2\n",
       "travel-sax-the-smallest-electronic-saxophone-in-th            2\n",
       "bissy-the-kolanut-energy-drink                                2\n",
       "the-bilby-400-lumen-high-powered-silicone-headlamp-by-knog    2\n",
       "                                                             ..\n",
       "producing-a-raw-diamond-into-a-star-lyrically-rap             1\n",
       "eat-our-feelings                                              1\n",
       "what-the-woof-a-dog-game-for-card-people                      1\n",
       "the-thieves-lute-haunted-songs                                1\n",
       "the-lost-princess-studio                                      1\n",
       "Name: slug, Length: 189615, dtype: int64"
      ]
     },
     "execution_count": 36,
     "metadata": {},
     "output_type": "execute_result"
    }
   ],
   "source": [
    "df.slug.value_counts()"
   ]
  },
  {
   "cell_type": "code",
   "execution_count": 37,
   "metadata": {},
   "outputs": [],
   "source": [
    "df.source_url.value_counts()\n",
    "df.drop(['source_url'], axis=1, inplace=True)"
   ]
  },
  {
   "cell_type": "code",
   "execution_count": 38,
   "metadata": {},
   "outputs": [
    {
     "data": {
      "text/plain": [
       "True     126821\n",
       "False     90185\n",
       "Name: spotlight, dtype: int64"
      ]
     },
     "execution_count": 38,
     "metadata": {},
     "output_type": "execute_result"
    }
   ],
   "source": [
    "df.spotlight.value_counts()"
   ]
  },
  {
   "cell_type": "code",
   "execution_count": 39,
   "metadata": {},
   "outputs": [
    {
     "data": {
      "text/plain": [
       "False    188376\n",
       "True      28630\n",
       "Name: staff_pick, dtype: int64"
      ]
     },
     "execution_count": 39,
     "metadata": {},
     "output_type": "execute_result"
    }
   ],
   "source": [
    "df.staff_pick.value_counts()"
   ]
  },
  {
   "cell_type": "code",
   "execution_count": 40,
   "metadata": {},
   "outputs": [
    {
     "data": {
      "text/plain": [
       "successful    126821\n",
       "failed         76210\n",
       "canceled        9015\n",
       "live            4960\n",
       "Name: state, dtype: int64"
      ]
     },
     "execution_count": 40,
     "metadata": {},
     "output_type": "execute_result"
    }
   ],
   "source": [
    "df.state.value_counts()"
   ]
  },
  {
   "cell_type": "code",
   "execution_count": 41,
   "metadata": {},
   "outputs": [],
   "source": [
    "df.urls.value_counts()\n",
    "df.drop(['urls'], axis=1, inplace=True)"
   ]
  },
  {
   "cell_type": "code",
   "execution_count": 42,
   "metadata": {},
   "outputs": [],
   "source": [
    "df.usd_type.value_counts()\n",
    "df.drop(['usd_type'], axis=1, inplace=True)"
   ]
  },
  {
   "cell_type": "code",
   "execution_count": 43,
   "metadata": {},
   "outputs": [
    {
     "name": "stdout",
     "output_type": "stream",
     "text": [
      "<class 'pandas.core.frame.DataFrame'>\n",
      "Int64Index: 217006 entries, 0 to 217432\n",
      "Data columns (total 23 columns):\n",
      " #   Column                    Non-Null Count   Dtype  \n",
      "---  ------                    --------------   -----  \n",
      " 0   backers_count             217006 non-null  int64  \n",
      " 1   blurb                     217006 non-null  object \n",
      " 2   category                  217006 non-null  object \n",
      " 3   converted_pledged_amount  217006 non-null  int64  \n",
      " 4   country_displayable_name  217006 non-null  object \n",
      " 5   created_at                217006 non-null  int64  \n",
      " 6   currency                  217006 non-null  object \n",
      " 7   currency_symbol           217006 non-null  object \n",
      " 8   currency_trailing_code    217006 non-null  bool   \n",
      " 9   deadline                  217006 non-null  int64  \n",
      " 10  fx_rate                   217006 non-null  float64\n",
      " 11  goal                      217006 non-null  float64\n",
      " 12  id                        217006 non-null  int64  \n",
      " 13  launched_at               217006 non-null  int64  \n",
      " 14  name                      217006 non-null  object \n",
      " 15  pledged                   217006 non-null  float64\n",
      " 16  slug                      217006 non-null  object \n",
      " 17  spotlight                 217006 non-null  bool   \n",
      " 18  staff_pick                217006 non-null  bool   \n",
      " 19  state                     217006 non-null  object \n",
      " 20  state_changed_at          217006 non-null  int64  \n",
      " 21  static_usd_rate           217006 non-null  float64\n",
      " 22  usd_pledged               217006 non-null  float64\n",
      "dtypes: bool(3), float64(5), int64(7), object(8)\n",
      "memory usage: 35.4+ MB\n"
     ]
    }
   ],
   "source": [
    "df.info()"
   ]
  },
  {
   "cell_type": "code",
   "execution_count": 44,
   "metadata": {},
   "outputs": [],
   "source": [
    "df.category = df.category.str.replace(':', ',')"
   ]
  },
  {
   "cell_type": "code",
   "execution_count": 45,
   "metadata": {},
   "outputs": [
    {
     "data": {
      "text/plain": [
       "0         {\"id\",313,\"name\",\"Small Batch\",\"slug\",\"food/sm...\n",
       "1         {\"id\",34,\"name\",\"Tabletop Games\",\"slug\",\"games...\n",
       "2         {\"id\",262,\"name\",\"Accessories\",\"slug\",\"fashion...\n",
       "3         {\"id\",313,\"name\",\"Small Batch\",\"slug\",\"food/sm...\n",
       "4         {\"id\",28,\"name\",\"Product Design\",\"slug\",\"desig...\n",
       "                                ...                        \n",
       "217428    {\"id\",13,\"name\",\"Journalism\",\"slug\",\"journalis...\n",
       "217429    {\"id\",277,\"name\",\"Nature\",\"slug\",\"photography/...\n",
       "217430    {\"id\",52,\"name\",\"Hardware\",\"slug\",\"technology/...\n",
       "217431    {\"id\",307,\"name\",\"Drinks\",\"slug\",\"food/drinks\"...\n",
       "217432    {\"id\",258,\"name\",\"Architecture\",\"slug\",\"design...\n",
       "Name: category, Length: 217006, dtype: object"
      ]
     },
     "execution_count": 45,
     "metadata": {},
     "output_type": "execute_result"
    }
   ],
   "source": [
    "df.category"
   ]
  },
  {
   "cell_type": "code",
   "execution_count": 46,
   "metadata": {},
   "outputs": [
    {
     "data": {
      "text/plain": [
       "'{\"id\",313,\"name\",\"Small Batch\",\"slug\",\"food/small batch\",\"position\",10,\"parent_id\",10,\"parent_name\",\"Food\",\"color\",16725570,\"urls\",{\"web\",{\"discover\",\"http,//www.kickstarter.com/discover/categories/food/small%20batch\"}}}'"
      ]
     },
     "execution_count": 46,
     "metadata": {},
     "output_type": "execute_result"
    }
   ],
   "source": [
    "df.category[0]"
   ]
  },
  {
   "cell_type": "code",
   "execution_count": 47,
   "metadata": {},
   "outputs": [],
   "source": [
    "import string\n",
    "\n",
    "punctuation = \"!\\\"#$%&'()*+-.:;<=>?@[\\\\]^_`{|}~\"\n",
    "\n",
    "def remove_punctuation(s):\n",
    "    s_sans_punct = \"\"\n",
    "    for letter in s:\n",
    "        if letter not in punctuation:\n",
    "            s_sans_punct += letter\n",
    "    return s_sans_punct"
   ]
  },
  {
   "cell_type": "code",
   "execution_count": 48,
   "metadata": {},
   "outputs": [],
   "source": [
    "# splits record strings up into lists\n",
    "new_category = []\n",
    "for line in df.category:\n",
    "    line = remove_punctuation(line)\n",
    "    new_category.append(line.split(','))\n",
    "    \n",
    "df.category = new_category"
   ]
  },
  {
   "cell_type": "code",
   "execution_count": 49,
   "metadata": {},
   "outputs": [
    {
     "data": {
      "text/plain": [
       "['id',\n",
       " '313',\n",
       " 'name',\n",
       " 'Small Batch',\n",
       " 'slug',\n",
       " 'food/small batch',\n",
       " 'position',\n",
       " '10',\n",
       " 'parentid',\n",
       " '10',\n",
       " 'parentname',\n",
       " 'Food',\n",
       " 'color',\n",
       " '16725570',\n",
       " 'urls',\n",
       " 'web',\n",
       " 'discover',\n",
       " 'http',\n",
       " '//wwwkickstartercom/discover/categories/food/small20batch']"
      ]
     },
     "execution_count": 49,
     "metadata": {},
     "output_type": "execute_result"
    }
   ],
   "source": [
    "df.category[0]"
   ]
  },
  {
   "cell_type": "code",
   "execution_count": 50,
   "metadata": {},
   "outputs": [],
   "source": [
    "for line in df.category:\n",
    "    for element in line:\n",
    "        clean_data = remove_punctuation(element)"
   ]
  },
  {
   "cell_type": "code",
   "execution_count": 51,
   "metadata": {},
   "outputs": [
    {
     "data": {
      "text/plain": [
       "['id',\n",
       " '38',\n",
       " 'name',\n",
       " 'Electronic Music',\n",
       " 'slug',\n",
       " 'music/electronic music',\n",
       " 'position',\n",
       " '6',\n",
       " 'parentid',\n",
       " '14',\n",
       " 'parentname',\n",
       " 'Music',\n",
       " 'color',\n",
       " '10878931',\n",
       " 'urls',\n",
       " 'web',\n",
       " 'discover',\n",
       " 'http',\n",
       " '//wwwkickstartercom/discover/categories/music/electronic20music']"
      ]
     },
     "execution_count": 51,
     "metadata": {},
     "output_type": "execute_result"
    }
   ],
   "source": [
    "df.category[42]"
   ]
  },
  {
   "cell_type": "code",
   "execution_count": 52,
   "metadata": {},
   "outputs": [
    {
     "data": {
      "text/plain": [
       "0         [id, 313, name, Small Batch, slug, food/small ...\n",
       "1         [id, 34, name, Tabletop Games, slug, games/tab...\n",
       "2         [id, 262, name, Accessories, slug, fashion/acc...\n",
       "3         [id, 313, name, Small Batch, slug, food/small ...\n",
       "4         [id, 28, name, Product Design, slug, design/pr...\n",
       "                                ...                        \n",
       "217428    [id, 13, name, Journalism, slug, journalism, p...\n",
       "217429    [id, 277, name, Nature, slug, photography/natu...\n",
       "217430    [id, 52, name, Hardware, slug, technology/hard...\n",
       "217431    [id, 307, name, Drinks, slug, food/drinks, pos...\n",
       "217432    [id, 258, name, Architecture, slug, design/arc...\n",
       "Name: category, Length: 217006, dtype: object"
      ]
     },
     "execution_count": 52,
     "metadata": {},
     "output_type": "execute_result"
    }
   ],
   "source": [
    "df['category']"
   ]
  },
  {
   "cell_type": "code",
   "execution_count": 53,
   "metadata": {},
   "outputs": [],
   "source": [
    "all_categories = {}\n",
    "for j, line in enumerate(df.category):\n",
    "    categories = {}\n",
    "    for i, ele in enumerate(line[:-4]):\n",
    "        if i % 2 == 0:\n",
    "            categories[ele] = line[i+1]\n",
    "    all_categories[j] = categories"
   ]
  },
  {
   "cell_type": "code",
   "execution_count": 54,
   "metadata": {},
   "outputs": [],
   "source": [
    "category = pd.DataFrame(all_categories).T"
   ]
  },
  {
   "cell_type": "code",
   "execution_count": 55,
   "metadata": {},
   "outputs": [],
   "source": [
    "category.drop([\n",
    "    'position',\n",
    "    'parentid',\n",
    "    'slug',\n",
    "    'color',\n",
    "    'urls'\n",
    "],\n",
    "axis = 1, inplace=True)"
   ]
  },
  {
   "cell_type": "code",
   "execution_count": 56,
   "metadata": {},
   "outputs": [
    {
     "data": {
      "text/plain": [
       "Index(['id', 'name', 'parentname'], dtype='object')"
      ]
     },
     "execution_count": 56,
     "metadata": {},
     "output_type": "execute_result"
    }
   ],
   "source": [
    "category.columns"
   ]
  },
  {
   "cell_type": "code",
   "execution_count": 57,
   "metadata": {},
   "outputs": [
    {
     "data": {
      "text/plain": [
       "Index(['backers_count', 'blurb', 'category', 'converted_pledged_amount',\n",
       "       'country_displayable_name', 'created_at', 'currency', 'currency_symbol',\n",
       "       'currency_trailing_code', 'deadline', 'fx_rate', 'goal', 'id',\n",
       "       'launched_at', 'name', 'pledged', 'slug', 'spotlight', 'staff_pick',\n",
       "       'state', 'state_changed_at', 'static_usd_rate', 'usd_pledged'],\n",
       "      dtype='object')"
      ]
     },
     "execution_count": 57,
     "metadata": {},
     "output_type": "execute_result"
    }
   ],
   "source": [
    "df.columns"
   ]
  },
  {
   "cell_type": "code",
   "execution_count": 58,
   "metadata": {},
   "outputs": [
    {
     "data": {
      "text/html": [
       "<div>\n",
       "<style scoped>\n",
       "    .dataframe tbody tr th:only-of-type {\n",
       "        vertical-align: middle;\n",
       "    }\n",
       "\n",
       "    .dataframe tbody tr th {\n",
       "        vertical-align: top;\n",
       "    }\n",
       "\n",
       "    .dataframe thead th {\n",
       "        text-align: right;\n",
       "    }\n",
       "</style>\n",
       "<table border=\"1\" class=\"dataframe\">\n",
       "  <thead>\n",
       "    <tr style=\"text-align: right;\">\n",
       "      <th></th>\n",
       "      <th>backers_count</th>\n",
       "      <th>blurb</th>\n",
       "      <th>category</th>\n",
       "      <th>converted_pledged_amount</th>\n",
       "      <th>country_displayable_name</th>\n",
       "      <th>created_at</th>\n",
       "      <th>currency</th>\n",
       "      <th>currency_symbol</th>\n",
       "      <th>currency_trailing_code</th>\n",
       "      <th>deadline</th>\n",
       "      <th>...</th>\n",
       "      <th>launched_at</th>\n",
       "      <th>name</th>\n",
       "      <th>pledged</th>\n",
       "      <th>slug</th>\n",
       "      <th>spotlight</th>\n",
       "      <th>staff_pick</th>\n",
       "      <th>state</th>\n",
       "      <th>state_changed_at</th>\n",
       "      <th>static_usd_rate</th>\n",
       "      <th>usd_pledged</th>\n",
       "    </tr>\n",
       "  </thead>\n",
       "  <tbody>\n",
       "    <tr>\n",
       "      <th>0</th>\n",
       "      <td>1</td>\n",
       "      <td>we are going Production herbal teabag of  plan...</td>\n",
       "      <td>[id, 313, name, Small Batch, slug, food/small ...</td>\n",
       "      <td>19</td>\n",
       "      <td>Australia</td>\n",
       "      <td>1441269202</td>\n",
       "      <td>AUD</td>\n",
       "      <td>$</td>\n",
       "      <td>True</td>\n",
       "      <td>1444141184</td>\n",
       "      <td>...</td>\n",
       "      <td>1441549184</td>\n",
       "      <td>Production herbal teabag of plants native to Iran</td>\n",
       "      <td>27.00</td>\n",
       "      <td>production-herbal-teabag-of-plants-native-to-iran</td>\n",
       "      <td>False</td>\n",
       "      <td>False</td>\n",
       "      <td>failed</td>\n",
       "      <td>1444141184</td>\n",
       "      <td>0.691164</td>\n",
       "      <td>1.866144e+01</td>\n",
       "    </tr>\n",
       "    <tr>\n",
       "      <th>1</th>\n",
       "      <td>637</td>\n",
       "      <td>Two agents battle each other in another dimens...</td>\n",
       "      <td>[id, 34, name, Tabletop Games, slug, games/tab...</td>\n",
       "      <td>16233</td>\n",
       "      <td>the United States</td>\n",
       "      <td>1576048498</td>\n",
       "      <td>USD</td>\n",
       "      <td>$</td>\n",
       "      <td>True</td>\n",
       "      <td>1583987400</td>\n",
       "      <td>...</td>\n",
       "      <td>1581353979</td>\n",
       "      <td>Slip Strike</td>\n",
       "      <td>16233.00</td>\n",
       "      <td>slip-strike-0</td>\n",
       "      <td>True</td>\n",
       "      <td>False</td>\n",
       "      <td>successful</td>\n",
       "      <td>1583987400</td>\n",
       "      <td>1.000000</td>\n",
       "      <td>1.623300e+04</td>\n",
       "    </tr>\n",
       "    <tr>\n",
       "      <th>2</th>\n",
       "      <td>50</td>\n",
       "      <td>A collection of Hard Enamel pins inspired by T...</td>\n",
       "      <td>[id, 262, name, Accessories, slug, fashion/acc...</td>\n",
       "      <td>983</td>\n",
       "      <td>Canada</td>\n",
       "      <td>1560821709</td>\n",
       "      <td>CAD</td>\n",
       "      <td>$</td>\n",
       "      <td>True</td>\n",
       "      <td>1564165822</td>\n",
       "      <td>...</td>\n",
       "      <td>1562005822</td>\n",
       "      <td>Tattoo Shop Flash</td>\n",
       "      <td>1294.29</td>\n",
       "      <td>tattoo-shop-flash</td>\n",
       "      <td>True</td>\n",
       "      <td>False</td>\n",
       "      <td>successful</td>\n",
       "      <td>1564165825</td>\n",
       "      <td>0.762900</td>\n",
       "      <td>9.874137e+02</td>\n",
       "    </tr>\n",
       "    <tr>\n",
       "      <th>3</th>\n",
       "      <td>8</td>\n",
       "      <td>Low carb, no sugar sauces and marinades using ...</td>\n",
       "      <td>[id, 313, name, Small Batch, slug, food/small ...</td>\n",
       "      <td>361</td>\n",
       "      <td>the United States</td>\n",
       "      <td>1563139848</td>\n",
       "      <td>USD</td>\n",
       "      <td>$</td>\n",
       "      <td>True</td>\n",
       "      <td>1569530542</td>\n",
       "      <td>...</td>\n",
       "      <td>1564346542</td>\n",
       "      <td>Pennington's - Keto Sauces and Marinades</td>\n",
       "      <td>361.00</td>\n",
       "      <td>penningtons-keto-sauces-and-marinades</td>\n",
       "      <td>False</td>\n",
       "      <td>False</td>\n",
       "      <td>failed</td>\n",
       "      <td>1569530544</td>\n",
       "      <td>1.000000</td>\n",
       "      <td>3.610000e+02</td>\n",
       "    </tr>\n",
       "    <tr>\n",
       "      <th>4</th>\n",
       "      <td>6452</td>\n",
       "      <td>The everyday bag fused with Parisian chic and ...</td>\n",
       "      <td>[id, 28, name, Product Design, slug, design/pr...</td>\n",
       "      <td>1385803</td>\n",
       "      <td>the United States</td>\n",
       "      <td>1561364892</td>\n",
       "      <td>USD</td>\n",
       "      <td>$</td>\n",
       "      <td>True</td>\n",
       "      <td>1568408340</td>\n",
       "      <td>...</td>\n",
       "      <td>1564502174</td>\n",
       "      <td>bobobark - Designed for Women. Made for Life.</td>\n",
       "      <td>1385803.00</td>\n",
       "      <td>bobobark-designed-for-women-made-for-life</td>\n",
       "      <td>True</td>\n",
       "      <td>False</td>\n",
       "      <td>successful</td>\n",
       "      <td>1568408340</td>\n",
       "      <td>1.000000</td>\n",
       "      <td>1.385803e+06</td>\n",
       "    </tr>\n",
       "  </tbody>\n",
       "</table>\n",
       "<p>5 rows × 23 columns</p>\n",
       "</div>"
      ],
      "text/plain": [
       "   backers_count                                              blurb  \\\n",
       "0              1  we are going Production herbal teabag of  plan...   \n",
       "1            637  Two agents battle each other in another dimens...   \n",
       "2             50  A collection of Hard Enamel pins inspired by T...   \n",
       "3              8  Low carb, no sugar sauces and marinades using ...   \n",
       "4           6452  The everyday bag fused with Parisian chic and ...   \n",
       "\n",
       "                                            category  \\\n",
       "0  [id, 313, name, Small Batch, slug, food/small ...   \n",
       "1  [id, 34, name, Tabletop Games, slug, games/tab...   \n",
       "2  [id, 262, name, Accessories, slug, fashion/acc...   \n",
       "3  [id, 313, name, Small Batch, slug, food/small ...   \n",
       "4  [id, 28, name, Product Design, slug, design/pr...   \n",
       "\n",
       "   converted_pledged_amount country_displayable_name  created_at currency  \\\n",
       "0                        19                Australia  1441269202      AUD   \n",
       "1                     16233        the United States  1576048498      USD   \n",
       "2                       983                   Canada  1560821709      CAD   \n",
       "3                       361        the United States  1563139848      USD   \n",
       "4                   1385803        the United States  1561364892      USD   \n",
       "\n",
       "  currency_symbol  currency_trailing_code    deadline  ...  launched_at  \\\n",
       "0               $                    True  1444141184  ...   1441549184   \n",
       "1               $                    True  1583987400  ...   1581353979   \n",
       "2               $                    True  1564165822  ...   1562005822   \n",
       "3               $                    True  1569530542  ...   1564346542   \n",
       "4               $                    True  1568408340  ...   1564502174   \n",
       "\n",
       "                                                name     pledged  \\\n",
       "0  Production herbal teabag of plants native to Iran       27.00   \n",
       "1                                        Slip Strike    16233.00   \n",
       "2                                  Tattoo Shop Flash     1294.29   \n",
       "3           Pennington's - Keto Sauces and Marinades      361.00   \n",
       "4      bobobark - Designed for Women. Made for Life.  1385803.00   \n",
       "\n",
       "                                                slug spotlight  staff_pick  \\\n",
       "0  production-herbal-teabag-of-plants-native-to-iran     False       False   \n",
       "1                                      slip-strike-0      True       False   \n",
       "2                                  tattoo-shop-flash      True       False   \n",
       "3              penningtons-keto-sauces-and-marinades     False       False   \n",
       "4          bobobark-designed-for-women-made-for-life      True       False   \n",
       "\n",
       "        state  state_changed_at  static_usd_rate   usd_pledged  \n",
       "0      failed        1444141184         0.691164  1.866144e+01  \n",
       "1  successful        1583987400         1.000000  1.623300e+04  \n",
       "2  successful        1564165825         0.762900  9.874137e+02  \n",
       "3      failed        1569530544         1.000000  3.610000e+02  \n",
       "4  successful        1568408340         1.000000  1.385803e+06  \n",
       "\n",
       "[5 rows x 23 columns]"
      ]
     },
     "execution_count": 58,
     "metadata": {},
     "output_type": "execute_result"
    }
   ],
   "source": [
    "df.head()"
   ]
  },
  {
   "cell_type": "code",
   "execution_count": 59,
   "metadata": {},
   "outputs": [],
   "source": [
    "df = df.merge(category, how='outer', left_index=True, right_index=True)"
   ]
  },
  {
   "cell_type": "code",
   "execution_count": 60,
   "metadata": {},
   "outputs": [
    {
     "data": {
      "text/html": [
       "<div>\n",
       "<style scoped>\n",
       "    .dataframe tbody tr th:only-of-type {\n",
       "        vertical-align: middle;\n",
       "    }\n",
       "\n",
       "    .dataframe tbody tr th {\n",
       "        vertical-align: top;\n",
       "    }\n",
       "\n",
       "    .dataframe thead th {\n",
       "        text-align: right;\n",
       "    }\n",
       "</style>\n",
       "<table border=\"1\" class=\"dataframe\">\n",
       "  <thead>\n",
       "    <tr style=\"text-align: right;\">\n",
       "      <th></th>\n",
       "      <th>backers_count</th>\n",
       "      <th>blurb</th>\n",
       "      <th>category</th>\n",
       "      <th>converted_pledged_amount</th>\n",
       "      <th>country_displayable_name</th>\n",
       "      <th>created_at</th>\n",
       "      <th>currency</th>\n",
       "      <th>currency_symbol</th>\n",
       "      <th>currency_trailing_code</th>\n",
       "      <th>deadline</th>\n",
       "      <th>...</th>\n",
       "      <th>slug</th>\n",
       "      <th>spotlight</th>\n",
       "      <th>staff_pick</th>\n",
       "      <th>state</th>\n",
       "      <th>state_changed_at</th>\n",
       "      <th>static_usd_rate</th>\n",
       "      <th>usd_pledged</th>\n",
       "      <th>id_y</th>\n",
       "      <th>name_y</th>\n",
       "      <th>parentname</th>\n",
       "    </tr>\n",
       "  </thead>\n",
       "  <tbody>\n",
       "    <tr>\n",
       "      <th>0</th>\n",
       "      <td>1.0</td>\n",
       "      <td>we are going Production herbal teabag of  plan...</td>\n",
       "      <td>[id, 313, name, Small Batch, slug, food/small ...</td>\n",
       "      <td>19.0</td>\n",
       "      <td>Australia</td>\n",
       "      <td>1.441269e+09</td>\n",
       "      <td>AUD</td>\n",
       "      <td>$</td>\n",
       "      <td>True</td>\n",
       "      <td>1.444141e+09</td>\n",
       "      <td>...</td>\n",
       "      <td>production-herbal-teabag-of-plants-native-to-iran</td>\n",
       "      <td>False</td>\n",
       "      <td>False</td>\n",
       "      <td>failed</td>\n",
       "      <td>1.444141e+09</td>\n",
       "      <td>0.691164</td>\n",
       "      <td>1.866144e+01</td>\n",
       "      <td>313</td>\n",
       "      <td>Small Batch</td>\n",
       "      <td>Food</td>\n",
       "    </tr>\n",
       "    <tr>\n",
       "      <th>1</th>\n",
       "      <td>637.0</td>\n",
       "      <td>Two agents battle each other in another dimens...</td>\n",
       "      <td>[id, 34, name, Tabletop Games, slug, games/tab...</td>\n",
       "      <td>16233.0</td>\n",
       "      <td>the United States</td>\n",
       "      <td>1.576048e+09</td>\n",
       "      <td>USD</td>\n",
       "      <td>$</td>\n",
       "      <td>True</td>\n",
       "      <td>1.583987e+09</td>\n",
       "      <td>...</td>\n",
       "      <td>slip-strike-0</td>\n",
       "      <td>True</td>\n",
       "      <td>False</td>\n",
       "      <td>successful</td>\n",
       "      <td>1.583987e+09</td>\n",
       "      <td>1.000000</td>\n",
       "      <td>1.623300e+04</td>\n",
       "      <td>34</td>\n",
       "      <td>Tabletop Games</td>\n",
       "      <td>Games</td>\n",
       "    </tr>\n",
       "    <tr>\n",
       "      <th>2</th>\n",
       "      <td>50.0</td>\n",
       "      <td>A collection of Hard Enamel pins inspired by T...</td>\n",
       "      <td>[id, 262, name, Accessories, slug, fashion/acc...</td>\n",
       "      <td>983.0</td>\n",
       "      <td>Canada</td>\n",
       "      <td>1.560822e+09</td>\n",
       "      <td>CAD</td>\n",
       "      <td>$</td>\n",
       "      <td>True</td>\n",
       "      <td>1.564166e+09</td>\n",
       "      <td>...</td>\n",
       "      <td>tattoo-shop-flash</td>\n",
       "      <td>True</td>\n",
       "      <td>False</td>\n",
       "      <td>successful</td>\n",
       "      <td>1.564166e+09</td>\n",
       "      <td>0.762900</td>\n",
       "      <td>9.874137e+02</td>\n",
       "      <td>262</td>\n",
       "      <td>Accessories</td>\n",
       "      <td>Fashion</td>\n",
       "    </tr>\n",
       "    <tr>\n",
       "      <th>3</th>\n",
       "      <td>8.0</td>\n",
       "      <td>Low carb, no sugar sauces and marinades using ...</td>\n",
       "      <td>[id, 313, name, Small Batch, slug, food/small ...</td>\n",
       "      <td>361.0</td>\n",
       "      <td>the United States</td>\n",
       "      <td>1.563140e+09</td>\n",
       "      <td>USD</td>\n",
       "      <td>$</td>\n",
       "      <td>True</td>\n",
       "      <td>1.569531e+09</td>\n",
       "      <td>...</td>\n",
       "      <td>penningtons-keto-sauces-and-marinades</td>\n",
       "      <td>False</td>\n",
       "      <td>False</td>\n",
       "      <td>failed</td>\n",
       "      <td>1.569531e+09</td>\n",
       "      <td>1.000000</td>\n",
       "      <td>3.610000e+02</td>\n",
       "      <td>313</td>\n",
       "      <td>Small Batch</td>\n",
       "      <td>Food</td>\n",
       "    </tr>\n",
       "    <tr>\n",
       "      <th>4</th>\n",
       "      <td>6452.0</td>\n",
       "      <td>The everyday bag fused with Parisian chic and ...</td>\n",
       "      <td>[id, 28, name, Product Design, slug, design/pr...</td>\n",
       "      <td>1385803.0</td>\n",
       "      <td>the United States</td>\n",
       "      <td>1.561365e+09</td>\n",
       "      <td>USD</td>\n",
       "      <td>$</td>\n",
       "      <td>True</td>\n",
       "      <td>1.568408e+09</td>\n",
       "      <td>...</td>\n",
       "      <td>bobobark-designed-for-women-made-for-life</td>\n",
       "      <td>True</td>\n",
       "      <td>False</td>\n",
       "      <td>successful</td>\n",
       "      <td>1.568408e+09</td>\n",
       "      <td>1.000000</td>\n",
       "      <td>1.385803e+06</td>\n",
       "      <td>28</td>\n",
       "      <td>Product Design</td>\n",
       "      <td>Design</td>\n",
       "    </tr>\n",
       "  </tbody>\n",
       "</table>\n",
       "<p>5 rows × 26 columns</p>\n",
       "</div>"
      ],
      "text/plain": [
       "   backers_count                                              blurb  \\\n",
       "0            1.0  we are going Production herbal teabag of  plan...   \n",
       "1          637.0  Two agents battle each other in another dimens...   \n",
       "2           50.0  A collection of Hard Enamel pins inspired by T...   \n",
       "3            8.0  Low carb, no sugar sauces and marinades using ...   \n",
       "4         6452.0  The everyday bag fused with Parisian chic and ...   \n",
       "\n",
       "                                            category  \\\n",
       "0  [id, 313, name, Small Batch, slug, food/small ...   \n",
       "1  [id, 34, name, Tabletop Games, slug, games/tab...   \n",
       "2  [id, 262, name, Accessories, slug, fashion/acc...   \n",
       "3  [id, 313, name, Small Batch, slug, food/small ...   \n",
       "4  [id, 28, name, Product Design, slug, design/pr...   \n",
       "\n",
       "   converted_pledged_amount country_displayable_name    created_at currency  \\\n",
       "0                      19.0                Australia  1.441269e+09      AUD   \n",
       "1                   16233.0        the United States  1.576048e+09      USD   \n",
       "2                     983.0                   Canada  1.560822e+09      CAD   \n",
       "3                     361.0        the United States  1.563140e+09      USD   \n",
       "4                 1385803.0        the United States  1.561365e+09      USD   \n",
       "\n",
       "  currency_symbol currency_trailing_code      deadline  ...  \\\n",
       "0               $                   True  1.444141e+09  ...   \n",
       "1               $                   True  1.583987e+09  ...   \n",
       "2               $                   True  1.564166e+09  ...   \n",
       "3               $                   True  1.569531e+09  ...   \n",
       "4               $                   True  1.568408e+09  ...   \n",
       "\n",
       "                                                slug  spotlight  staff_pick  \\\n",
       "0  production-herbal-teabag-of-plants-native-to-iran      False       False   \n",
       "1                                      slip-strike-0       True       False   \n",
       "2                                  tattoo-shop-flash       True       False   \n",
       "3              penningtons-keto-sauces-and-marinades      False       False   \n",
       "4          bobobark-designed-for-women-made-for-life       True       False   \n",
       "\n",
       "        state state_changed_at  static_usd_rate   usd_pledged id_y  \\\n",
       "0      failed     1.444141e+09         0.691164  1.866144e+01  313   \n",
       "1  successful     1.583987e+09         1.000000  1.623300e+04   34   \n",
       "2  successful     1.564166e+09         0.762900  9.874137e+02  262   \n",
       "3      failed     1.569531e+09         1.000000  3.610000e+02  313   \n",
       "4  successful     1.568408e+09         1.000000  1.385803e+06   28   \n",
       "\n",
       "           name_y parentname  \n",
       "0     Small Batch       Food  \n",
       "1  Tabletop Games      Games  \n",
       "2     Accessories    Fashion  \n",
       "3     Small Batch       Food  \n",
       "4  Product Design     Design  \n",
       "\n",
       "[5 rows x 26 columns]"
      ]
     },
     "execution_count": 60,
     "metadata": {},
     "output_type": "execute_result"
    }
   ],
   "source": [
    "df.head()"
   ]
  },
  {
   "cell_type": "code",
   "execution_count": 61,
   "metadata": {},
   "outputs": [
    {
     "data": {
      "text/plain": [
       "Index(['backers_count', 'blurb', 'category', 'converted_pledged_amount',\n",
       "       'country_displayable_name', 'created_at', 'currency', 'currency_symbol',\n",
       "       'currency_trailing_code', 'deadline', 'fx_rate', 'goal', 'id_x',\n",
       "       'launched_at', 'name_x', 'pledged', 'slug', 'spotlight', 'staff_pick',\n",
       "       'state', 'state_changed_at', 'static_usd_rate', 'usd_pledged', 'id_y',\n",
       "       'name_y', 'parentname'],\n",
       "      dtype='object')"
      ]
     },
     "execution_count": 61,
     "metadata": {},
     "output_type": "execute_result"
    }
   ],
   "source": [
    "df.columns"
   ]
  },
  {
   "cell_type": "code",
   "execution_count": 62,
   "metadata": {},
   "outputs": [
    {
     "data": {
      "text/plain": [
       "backers_count               0.001964\n",
       "blurb                       0.001964\n",
       "category                    0.001964\n",
       "converted_pledged_amount    0.001964\n",
       "country_displayable_name    0.001964\n",
       "created_at                  0.001964\n",
       "currency                    0.001964\n",
       "currency_symbol             0.001964\n",
       "currency_trailing_code      0.001964\n",
       "deadline                    0.001964\n",
       "fx_rate                     0.001964\n",
       "goal                        0.001964\n",
       "id_x                        0.001964\n",
       "launched_at                 0.001964\n",
       "name_x                      0.001964\n",
       "pledged                     0.001964\n",
       "slug                        0.001964\n",
       "spotlight                   0.001964\n",
       "staff_pick                  0.001964\n",
       "state                       0.001964\n",
       "state_changed_at            0.001964\n",
       "static_usd_rate             0.001964\n",
       "usd_pledged                 0.001964\n",
       "id_y                        0.001964\n",
       "name_y                      0.001964\n",
       "parentname                  0.040399\n",
       "dtype: float64"
      ]
     },
     "execution_count": 62,
     "metadata": {},
     "output_type": "execute_result"
    }
   ],
   "source": [
    "missing_values= df.isnull().sum()\n",
    "missing_values/len(df)"
   ]
  },
  {
   "cell_type": "code",
   "execution_count": 63,
   "metadata": {},
   "outputs": [],
   "source": [
    "df.dropna(inplace=True)"
   ]
  },
  {
   "cell_type": "code",
   "execution_count": 64,
   "metadata": {},
   "outputs": [
    {
     "data": {
      "text/plain": [
       "backers_count               0.0\n",
       "blurb                       0.0\n",
       "category                    0.0\n",
       "converted_pledged_amount    0.0\n",
       "country_displayable_name    0.0\n",
       "created_at                  0.0\n",
       "currency                    0.0\n",
       "currency_symbol             0.0\n",
       "currency_trailing_code      0.0\n",
       "deadline                    0.0\n",
       "fx_rate                     0.0\n",
       "goal                        0.0\n",
       "id_x                        0.0\n",
       "launched_at                 0.0\n",
       "name_x                      0.0\n",
       "pledged                     0.0\n",
       "slug                        0.0\n",
       "spotlight                   0.0\n",
       "staff_pick                  0.0\n",
       "state                       0.0\n",
       "state_changed_at            0.0\n",
       "static_usd_rate             0.0\n",
       "usd_pledged                 0.0\n",
       "id_y                        0.0\n",
       "name_y                      0.0\n",
       "parentname                  0.0\n",
       "dtype: float64"
      ]
     },
     "execution_count": 64,
     "metadata": {},
     "output_type": "execute_result"
    }
   ],
   "source": [
    "missing_values= df.isnull().sum()\n",
    "missing_values/len(df)"
   ]
  },
  {
   "cell_type": "code",
   "execution_count": 65,
   "metadata": {},
   "outputs": [],
   "source": [
    "df.category\n",
    "df.drop(['category'], axis=1, inplace=True)"
   ]
  },
  {
   "cell_type": "code",
   "execution_count": 66,
   "metadata": {},
   "outputs": [
    {
     "data": {
      "text/plain": [
       "207883    12969608.0\n",
       "206264    12969608.0\n",
       "51782     12143435.0\n",
       "197998    12143435.0\n",
       "71884     11385449.0\n",
       "             ...    \n",
       "136678           0.0\n",
       "64297            0.0\n",
       "64327            0.0\n",
       "136653           0.0\n",
       "126425           0.0\n",
       "Name: converted_pledged_amount, Length: 208235, dtype: float64"
      ]
     },
     "execution_count": 66,
     "metadata": {},
     "output_type": "execute_result"
    }
   ],
   "source": [
    "df.converted_pledged_amount.sort_values(ascending=False)"
   ]
  },
  {
   "cell_type": "code",
   "execution_count": 67,
   "metadata": {},
   "outputs": [
    {
     "data": {
      "text/plain": [
       "True     167459\n",
       "False     40776\n",
       "Name: currency_trailing_code, dtype: int64"
      ]
     },
     "execution_count": 67,
     "metadata": {},
     "output_type": "execute_result"
    }
   ],
   "source": [
    "df.currency_trailing_code.value_counts()"
   ]
  },
  {
   "cell_type": "code",
   "execution_count": 68,
   "metadata": {},
   "outputs": [
    {
     "data": {
      "text/plain": [
       "1.572581e+09    31\n",
       "1.559362e+09    28\n",
       "1.583039e+09    27\n",
       "1.459483e+09    22\n",
       "1.572592e+09    20\n",
       "                ..\n",
       "1.483826e+09     1\n",
       "1.445598e+09     1\n",
       "1.445597e+09     1\n",
       "1.445595e+09     1\n",
       "1.428631e+09     1\n",
       "Name: deadline, Length: 172438, dtype: int64"
      ]
     },
     "execution_count": 68,
     "metadata": {},
     "output_type": "execute_result"
    }
   ],
   "source": [
    "df.deadline.value_counts()"
   ]
  },
  {
   "cell_type": "code",
   "execution_count": 69,
   "metadata": {},
   "outputs": [
    {
     "data": {
      "text/plain": [
       "1.000000    143456\n",
       "1.221140     17718\n",
       "1.080912     11807\n",
       "0.709285      7400\n",
       "1.226759      6245\n",
       "0.643694      3799\n",
       "1.085077      3723\n",
       "0.711371      2441\n",
       "0.041296      2061\n",
       "0.647046      1214\n",
       "0.101724      1189\n",
       "0.129025      1006\n",
       "0.041245       871\n",
       "0.144964       712\n",
       "0.598910       692\n",
       "0.703586       638\n",
       "1.027844       571\n",
       "0.129018       479\n",
       "0.009354       419\n",
       "0.098205       390\n",
       "0.102376       340\n",
       "0.145478       237\n",
       "0.601356       229\n",
       "0.705470       198\n",
       "1.031539       158\n",
       "0.009327       135\n",
       "0.098548       107\n",
       "Name: fx_rate, dtype: int64"
      ]
     },
     "execution_count": 69,
     "metadata": {},
     "output_type": "execute_result"
    }
   ],
   "source": [
    "df.fx_rate.value_counts()"
   ]
  },
  {
   "cell_type": "code",
   "execution_count": 70,
   "metadata": {},
   "outputs": [
    {
     "data": {
      "text/plain": [
       "5000.0     14847\n",
       "10000.0    13102\n",
       "1000.0      9816\n",
       "2000.0      8505\n",
       "3000.0      8353\n",
       "           ...  \n",
       "28100.0        1\n",
       "3978.0         1\n",
       "5205.0         1\n",
       "29011.0        1\n",
       "10130.0        1\n",
       "Name: goal, Length: 5405, dtype: int64"
      ]
     },
     "execution_count": 70,
     "metadata": {},
     "output_type": "execute_result"
    }
   ],
   "source": [
    "df.goal.value_counts()"
   ]
  },
  {
   "cell_type": "code",
   "execution_count": 71,
   "metadata": {},
   "outputs": [
    {
     "data": {
      "text/plain": [
       "1.829455e+09    3\n",
       "5.207550e+08    2\n",
       "1.540653e+09    2\n",
       "1.041477e+09    2\n",
       "1.156990e+09    2\n",
       "               ..\n",
       "1.418861e+09    1\n",
       "7.656159e+08    1\n",
       "1.773568e+08    1\n",
       "7.363103e+08    1\n",
       "1.610614e+09    1\n",
       "Name: id_x, Length: 183173, dtype: int64"
      ]
     },
     "execution_count": 71,
     "metadata": {},
     "output_type": "execute_result"
    }
   ],
   "source": [
    "df.id_x.value_counts()"
   ]
  },
  {
   "cell_type": "code",
   "execution_count": 72,
   "metadata": {},
   "outputs": [
    {
     "data": {
      "text/plain": [
       "Debut Album                                              8\n",
       "A Midsummer Night's Dream                                7\n",
       "Home                                                     6\n",
       "Romeo & Juliet                                           6\n",
       "Reflections                                              6\n",
       "                                                        ..\n",
       "Superman and Batman The Worlds Finest Parody Fan Film    1\n",
       "Make Him Cry                                             1\n",
       "\"Reflections\" by R. Chadwick Drewes                      1\n",
       "CATTLE - AN AWESOME SCI-FI SHORT (Canceled)              1\n",
       "If everyone gave a dollar                                1\n",
       "Name: name_x, Length: 182587, dtype: int64"
      ]
     },
     "execution_count": 72,
     "metadata": {},
     "output_type": "execute_result"
    }
   ],
   "source": [
    "df.name_x.value_counts()"
   ]
  },
  {
   "cell_type": "code",
   "execution_count": 73,
   "metadata": {},
   "outputs": [
    {
     "data": {
      "text/plain": [
       "0.00         15846\n",
       "1.00          6527\n",
       "2.00          1674\n",
       "10.00         1652\n",
       "5.00          1144\n",
       "             ...  \n",
       "2081.88          1\n",
       "60144.00         1\n",
       "70715.20         1\n",
       "155138.71        1\n",
       "262143.00        1\n",
       "Name: pledged, Length: 46998, dtype: int64"
      ]
     },
     "execution_count": 73,
     "metadata": {},
     "output_type": "execute_result"
    }
   ],
   "source": [
    "df.pledged.value_counts()"
   ]
  },
  {
   "cell_type": "code",
   "execution_count": 74,
   "metadata": {},
   "outputs": [
    {
     "data": {
      "text/plain": [
       "infinite-academy-a-super-new-way-of-learning               3\n",
       "author-of-book-hansel-and-gretta                           2\n",
       "evacuation-pandemic                                        2\n",
       "kawaii-anime-inspired-hard-enamel-pins                     2\n",
       "isospine-trigger-point-therapy-to-stretch-out-your-back    2\n",
       "                                                          ..\n",
       "how-to-make-money-from-art-camden-fringe-festival          1\n",
       "retronator-pixel-art-academy                               1\n",
       "krista-branch-is-recording-her-1st-full-length-alb         1\n",
       "blog-about-what-international-students-think-about         1\n",
       "the-lost-princess-studio                                   1\n",
       "Name: slug, Length: 183173, dtype: int64"
      ]
     },
     "execution_count": 74,
     "metadata": {},
     "output_type": "execute_result"
    }
   ],
   "source": [
    "df.slug.value_counts()"
   ]
  },
  {
   "cell_type": "code",
   "execution_count": 75,
   "metadata": {},
   "outputs": [
    {
     "data": {
      "text/plain": [
       "True     121680\n",
       "False     86555\n",
       "Name: spotlight, dtype: int64"
      ]
     },
     "execution_count": 75,
     "metadata": {},
     "output_type": "execute_result"
    }
   ],
   "source": [
    "df.spotlight.value_counts()"
   ]
  },
  {
   "cell_type": "code",
   "execution_count": 76,
   "metadata": {},
   "outputs": [
    {
     "data": {
      "text/plain": [
       "False    180698\n",
       "True      27537\n",
       "Name: staff_pick, dtype: int64"
      ]
     },
     "execution_count": 76,
     "metadata": {},
     "output_type": "execute_result"
    }
   ],
   "source": [
    "df.staff_pick.value_counts()"
   ]
  },
  {
   "cell_type": "code",
   "execution_count": 77,
   "metadata": {},
   "outputs": [
    {
     "data": {
      "text/plain": [
       "successful    121680\n",
       "failed         73128\n",
       "canceled        8678\n",
       "live            4749\n",
       "Name: state, dtype: int64"
      ]
     },
     "execution_count": 77,
     "metadata": {},
     "output_type": "execute_result"
    }
   ],
   "source": [
    "df.state.value_counts()"
   ]
  },
  {
   "cell_type": "code",
   "execution_count": 78,
   "metadata": {},
   "outputs": [
    {
     "data": {
      "text/plain": [
       "1.572581e+09    30\n",
       "1.559362e+09    28\n",
       "1.583039e+09    26\n",
       "1.459483e+09    20\n",
       "1.572592e+09    20\n",
       "                ..\n",
       "1.444937e+09     1\n",
       "1.444931e+09     1\n",
       "1.431899e+09     1\n",
       "1.444927e+09     1\n",
       "1.353211e+09     1\n",
       "Name: state_changed_at, Length: 173298, dtype: int64"
      ]
     },
     "execution_count": 78,
     "metadata": {},
     "output_type": "execute_result"
    }
   ],
   "source": [
    "df.state_changed_at.value_counts()"
   ]
  },
  {
   "cell_type": "code",
   "execution_count": 79,
   "metadata": {},
   "outputs": [],
   "source": [
    "df.static_usd_rate.value_counts()\n",
    "df.drop(['static_usd_rate'], axis=1, inplace=True)"
   ]
  },
  {
   "cell_type": "code",
   "execution_count": 80,
   "metadata": {},
   "outputs": [
    {
     "data": {
      "text/plain": [
       "0.000000        15846\n",
       "1.000000         4496\n",
       "2.000000         1117\n",
       "10.000000        1080\n",
       "25.000000         941\n",
       "                ...  \n",
       "911.482860          1\n",
       "2754.510000         1\n",
       "802.013808          1\n",
       "43533.000000        1\n",
       "32.723074           1\n",
       "Name: usd_pledged, Length: 83701, dtype: int64"
      ]
     },
     "execution_count": 80,
     "metadata": {},
     "output_type": "execute_result"
    }
   ],
   "source": [
    "df.usd_pledged.value_counts()"
   ]
  },
  {
   "cell_type": "code",
   "execution_count": 81,
   "metadata": {},
   "outputs": [],
   "source": [
    "df.id_y.value_counts()\n",
    "df.drop(['id_y'], axis=1, inplace=True)"
   ]
  },
  {
   "cell_type": "code",
   "execution_count": 82,
   "metadata": {},
   "outputs": [
    {
     "data": {
      "text/plain": [
       "Web                4621\n",
       "Product Design     4402\n",
       "Tabletop Games     4040\n",
       "Accessories        3683\n",
       "Comic Books        3556\n",
       "                   ... \n",
       "Social Practice      78\n",
       "Chiptune             59\n",
       "Farmers Markets      28\n",
       "Toys                 16\n",
       "Taxidermy            12\n",
       "Name: name_y, Length: 146, dtype: int64"
      ]
     },
     "execution_count": 82,
     "metadata": {},
     "output_type": "execute_result"
    }
   ],
   "source": [
    "df.name_y.value_counts()"
   ]
  },
  {
   "cell_type": "code",
   "execution_count": 83,
   "metadata": {},
   "outputs": [
    {
     "data": {
      "text/plain": [
       "Film  Video    28223\n",
       "Music          27057\n",
       "Technology     21453\n",
       "Publishing     20865\n",
       "Art            20622\n",
       "Food           16010\n",
       "Games          14097\n",
       "Fashion        12575\n",
       "Design          8846\n",
       "Comics          8818\n",
       "Photography     8117\n",
       "Theater         6794\n",
       "Crafts          6607\n",
       "Journalism      5373\n",
       "Dance           2778\n",
       "Name: parentname, dtype: int64"
      ]
     },
     "execution_count": 83,
     "metadata": {},
     "output_type": "execute_result"
    }
   ],
   "source": [
    "df.parentname.value_counts()"
   ]
  },
  {
   "cell_type": "code",
   "execution_count": 84,
   "metadata": {},
   "outputs": [
    {
     "name": "stdout",
     "output_type": "stream",
     "text": [
      "<class 'pandas.core.frame.DataFrame'>\n",
      "Int64Index: 208235 entries, 0 to 217005\n",
      "Data columns (total 23 columns):\n",
      " #   Column                    Non-Null Count   Dtype  \n",
      "---  ------                    --------------   -----  \n",
      " 0   backers_count             208235 non-null  float64\n",
      " 1   blurb                     208235 non-null  object \n",
      " 2   converted_pledged_amount  208235 non-null  float64\n",
      " 3   country_displayable_name  208235 non-null  object \n",
      " 4   created_at                208235 non-null  float64\n",
      " 5   currency                  208235 non-null  object \n",
      " 6   currency_symbol           208235 non-null  object \n",
      " 7   currency_trailing_code    208235 non-null  object \n",
      " 8   deadline                  208235 non-null  float64\n",
      " 9   fx_rate                   208235 non-null  float64\n",
      " 10  goal                      208235 non-null  float64\n",
      " 11  id_x                      208235 non-null  float64\n",
      " 12  launched_at               208235 non-null  float64\n",
      " 13  name_x                    208235 non-null  object \n",
      " 14  pledged                   208235 non-null  float64\n",
      " 15  slug                      208235 non-null  object \n",
      " 16  spotlight                 208235 non-null  object \n",
      " 17  staff_pick                208235 non-null  object \n",
      " 18  state                     208235 non-null  object \n",
      " 19  state_changed_at          208235 non-null  float64\n",
      " 20  usd_pledged               208235 non-null  float64\n",
      " 21  name_y                    208235 non-null  object \n",
      " 22  parentname                208235 non-null  object \n",
      "dtypes: float64(11), object(12)\n",
      "memory usage: 38.1+ MB\n"
     ]
    }
   ],
   "source": [
    "df.info()"
   ]
  },
  {
   "cell_type": "code",
   "execution_count": 85,
   "metadata": {},
   "outputs": [],
   "source": [
    "df.currency_symbol.value_counts()\n",
    "df.drop(['currency_symbol'], axis=1, inplace=True)"
   ]
  },
  {
   "cell_type": "code",
   "execution_count": 86,
   "metadata": {},
   "outputs": [
    {
     "data": {
      "text/plain": [
       "Index(['backers_count', 'blurb', 'converted_pledged_amount',\n",
       "       'country_displayable_name', 'created_at', 'currency',\n",
       "       'currency_trailing_code', 'deadline', 'fx_rate', 'goal', 'id_x',\n",
       "       'launched_at', 'name_x', 'pledged', 'slug', 'spotlight', 'staff_pick',\n",
       "       'state', 'state_changed_at', 'usd_pledged', 'name_y', 'parentname'],\n",
       "      dtype='object')"
      ]
     },
     "execution_count": 86,
     "metadata": {},
     "output_type": "execute_result"
    }
   ],
   "source": [
    "df.columns"
   ]
  },
  {
   "cell_type": "code",
   "execution_count": 87,
   "metadata": {},
   "outputs": [
    {
     "data": {
      "text/plain": [
       "0             failed\n",
       "1         successful\n",
       "2         successful\n",
       "3             failed\n",
       "4         successful\n",
       "             ...    \n",
       "217000        failed\n",
       "217002    successful\n",
       "217003    successful\n",
       "217004    successful\n",
       "217005        failed\n",
       "Name: state, Length: 208235, dtype: object"
      ]
     },
     "execution_count": 87,
     "metadata": {},
     "output_type": "execute_result"
    }
   ],
   "source": [
    "df.state"
   ]
  },
  {
   "cell_type": "code",
   "execution_count": null,
   "metadata": {},
   "outputs": [],
   "source": []
  },
  {
   "cell_type": "code",
   "execution_count": 88,
   "metadata": {},
   "outputs": [],
   "source": [
    "df.state = pd.get_dummies(df.state, columns=['dummy'], drop_first=True)"
   ]
  },
  {
   "cell_type": "code",
   "execution_count": 89,
   "metadata": {},
   "outputs": [
    {
     "data": {
      "text/plain": [
       "0         1\n",
       "1         0\n",
       "2         0\n",
       "3         1\n",
       "4         0\n",
       "         ..\n",
       "217000    1\n",
       "217002    0\n",
       "217003    0\n",
       "217004    0\n",
       "217005    1\n",
       "Name: state, Length: 208235, dtype: uint8"
      ]
     },
     "execution_count": 89,
     "metadata": {},
     "output_type": "execute_result"
    }
   ],
   "source": [
    "df.state"
   ]
  },
  {
   "cell_type": "code",
   "execution_count": 90,
   "metadata": {},
   "outputs": [],
   "source": [
    "df.state = df.state.replace({1:0, 0:1})"
   ]
  },
  {
   "cell_type": "code",
   "execution_count": 91,
   "metadata": {},
   "outputs": [
    {
     "data": {
      "text/plain": [
       "0         0\n",
       "1         1\n",
       "2         1\n",
       "3         0\n",
       "4         1\n",
       "         ..\n",
       "217000    0\n",
       "217002    1\n",
       "217003    1\n",
       "217004    1\n",
       "217005    0\n",
       "Name: state, Length: 208235, dtype: int64"
      ]
     },
     "execution_count": 91,
     "metadata": {},
     "output_type": "execute_result"
    }
   ],
   "source": [
    "df.state"
   ]
  },
  {
   "cell_type": "code",
   "execution_count": 92,
   "metadata": {},
   "outputs": [
    {
     "data": {
      "text/plain": [
       "Index(['backers_count', 'blurb', 'converted_pledged_amount',\n",
       "       'country_displayable_name', 'created_at', 'currency',\n",
       "       'currency_trailing_code', 'deadline', 'fx_rate', 'goal', 'id_x',\n",
       "       'launched_at', 'name_x', 'pledged', 'slug', 'spotlight', 'staff_pick',\n",
       "       'state', 'state_changed_at', 'usd_pledged', 'name_y', 'parentname'],\n",
       "      dtype='object')"
      ]
     },
     "execution_count": 92,
     "metadata": {},
     "output_type": "execute_result"
    }
   ],
   "source": [
    "df.columns"
   ]
  },
  {
   "cell_type": "code",
   "execution_count": 93,
   "metadata": {},
   "outputs": [
    {
     "name": "stdout",
     "output_type": "stream",
     "text": [
      "state                       1.000000\n",
      "backers_count               0.107838\n",
      "launched_at                 0.092956\n",
      "deadline                    0.090893\n",
      "state_changed_at            0.089478\n",
      "created_at                  0.088051\n",
      "usd_pledged                 0.084288\n",
      "converted_pledged_amount    0.084233\n",
      "pledged                     0.018619\n",
      "fx_rate                     0.015172\n",
      "id_x                        0.000451\n",
      "goal                       -0.029612\n",
      "Name: state, dtype: float64\n"
     ]
    }
   ],
   "source": [
    "corr_matrix = df.corr()\n",
    "print(corr_matrix[\"state\"].sort_values(ascending=False))"
   ]
  },
  {
   "cell_type": "code",
   "execution_count": 94,
   "metadata": {},
   "outputs": [
    {
     "data": {
      "text/plain": [
       "converted_pledged_amount    0.084233\n",
       "created_at                  0.088051\n",
       "deadline                    0.090893\n",
       "fx_rate                     0.015172\n",
       "goal                       -0.029612\n",
       "id_x                        0.000451\n",
       "launched_at                 0.092956\n",
       "pledged                     0.018619\n",
       "state                       1.000000\n",
       "state_changed_at            0.089478\n",
       "usd_pledged                 0.084288\n",
       "Name: state, dtype: float64"
      ]
     },
     "execution_count": 94,
     "metadata": {},
     "output_type": "execute_result"
    }
   ],
   "source": [
    "df[df.columns[1:]].corr()['state'][:]"
   ]
  },
  {
   "cell_type": "code",
   "execution_count": 95,
   "metadata": {},
   "outputs": [
    {
     "data": {
      "text/html": [
       "<div>\n",
       "<style scoped>\n",
       "    .dataframe tbody tr th:only-of-type {\n",
       "        vertical-align: middle;\n",
       "    }\n",
       "\n",
       "    .dataframe tbody tr th {\n",
       "        vertical-align: top;\n",
       "    }\n",
       "\n",
       "    .dataframe thead th {\n",
       "        text-align: right;\n",
       "    }\n",
       "</style>\n",
       "<table border=\"1\" class=\"dataframe\">\n",
       "  <thead>\n",
       "    <tr style=\"text-align: right;\">\n",
       "      <th></th>\n",
       "      <th>backers_count</th>\n",
       "      <th>blurb</th>\n",
       "      <th>converted_pledged_amount</th>\n",
       "      <th>country_displayable_name</th>\n",
       "      <th>created_at</th>\n",
       "      <th>currency</th>\n",
       "      <th>currency_trailing_code</th>\n",
       "      <th>deadline</th>\n",
       "      <th>fx_rate</th>\n",
       "      <th>goal</th>\n",
       "      <th>...</th>\n",
       "      <th>name_x</th>\n",
       "      <th>pledged</th>\n",
       "      <th>slug</th>\n",
       "      <th>spotlight</th>\n",
       "      <th>staff_pick</th>\n",
       "      <th>state</th>\n",
       "      <th>state_changed_at</th>\n",
       "      <th>usd_pledged</th>\n",
       "      <th>name_y</th>\n",
       "      <th>parentname</th>\n",
       "    </tr>\n",
       "  </thead>\n",
       "  <tbody>\n",
       "    <tr>\n",
       "      <th>0</th>\n",
       "      <td>1.0</td>\n",
       "      <td>we are going Production herbal teabag of  plan...</td>\n",
       "      <td>19.0</td>\n",
       "      <td>Australia</td>\n",
       "      <td>1.441269e+09</td>\n",
       "      <td>AUD</td>\n",
       "      <td>True</td>\n",
       "      <td>1.444141e+09</td>\n",
       "      <td>0.643694</td>\n",
       "      <td>14000.0</td>\n",
       "      <td>...</td>\n",
       "      <td>Production herbal teabag of plants native to Iran</td>\n",
       "      <td>27.00</td>\n",
       "      <td>production-herbal-teabag-of-plants-native-to-iran</td>\n",
       "      <td>False</td>\n",
       "      <td>False</td>\n",
       "      <td>0</td>\n",
       "      <td>1.444141e+09</td>\n",
       "      <td>1.866144e+01</td>\n",
       "      <td>Small Batch</td>\n",
       "      <td>Food</td>\n",
       "    </tr>\n",
       "    <tr>\n",
       "      <th>1</th>\n",
       "      <td>637.0</td>\n",
       "      <td>Two agents battle each other in another dimens...</td>\n",
       "      <td>16233.0</td>\n",
       "      <td>the United States</td>\n",
       "      <td>1.576048e+09</td>\n",
       "      <td>USD</td>\n",
       "      <td>True</td>\n",
       "      <td>1.583987e+09</td>\n",
       "      <td>1.000000</td>\n",
       "      <td>6000.0</td>\n",
       "      <td>...</td>\n",
       "      <td>Slip Strike</td>\n",
       "      <td>16233.00</td>\n",
       "      <td>slip-strike-0</td>\n",
       "      <td>True</td>\n",
       "      <td>False</td>\n",
       "      <td>1</td>\n",
       "      <td>1.583987e+09</td>\n",
       "      <td>1.623300e+04</td>\n",
       "      <td>Tabletop Games</td>\n",
       "      <td>Games</td>\n",
       "    </tr>\n",
       "    <tr>\n",
       "      <th>2</th>\n",
       "      <td>50.0</td>\n",
       "      <td>A collection of Hard Enamel pins inspired by T...</td>\n",
       "      <td>983.0</td>\n",
       "      <td>Canada</td>\n",
       "      <td>1.560822e+09</td>\n",
       "      <td>CAD</td>\n",
       "      <td>True</td>\n",
       "      <td>1.564166e+09</td>\n",
       "      <td>0.709285</td>\n",
       "      <td>450.0</td>\n",
       "      <td>...</td>\n",
       "      <td>Tattoo Shop Flash</td>\n",
       "      <td>1294.29</td>\n",
       "      <td>tattoo-shop-flash</td>\n",
       "      <td>True</td>\n",
       "      <td>False</td>\n",
       "      <td>1</td>\n",
       "      <td>1.564166e+09</td>\n",
       "      <td>9.874137e+02</td>\n",
       "      <td>Accessories</td>\n",
       "      <td>Fashion</td>\n",
       "    </tr>\n",
       "    <tr>\n",
       "      <th>3</th>\n",
       "      <td>8.0</td>\n",
       "      <td>Low carb, no sugar sauces and marinades using ...</td>\n",
       "      <td>361.0</td>\n",
       "      <td>the United States</td>\n",
       "      <td>1.563140e+09</td>\n",
       "      <td>USD</td>\n",
       "      <td>True</td>\n",
       "      <td>1.569531e+09</td>\n",
       "      <td>1.000000</td>\n",
       "      <td>28000.0</td>\n",
       "      <td>...</td>\n",
       "      <td>Pennington's - Keto Sauces and Marinades</td>\n",
       "      <td>361.00</td>\n",
       "      <td>penningtons-keto-sauces-and-marinades</td>\n",
       "      <td>False</td>\n",
       "      <td>False</td>\n",
       "      <td>0</td>\n",
       "      <td>1.569531e+09</td>\n",
       "      <td>3.610000e+02</td>\n",
       "      <td>Small Batch</td>\n",
       "      <td>Food</td>\n",
       "    </tr>\n",
       "    <tr>\n",
       "      <th>4</th>\n",
       "      <td>6452.0</td>\n",
       "      <td>The everyday bag fused with Parisian chic and ...</td>\n",
       "      <td>1385803.0</td>\n",
       "      <td>the United States</td>\n",
       "      <td>1.561365e+09</td>\n",
       "      <td>USD</td>\n",
       "      <td>True</td>\n",
       "      <td>1.568408e+09</td>\n",
       "      <td>1.000000</td>\n",
       "      <td>15000.0</td>\n",
       "      <td>...</td>\n",
       "      <td>bobobark - Designed for Women. Made for Life.</td>\n",
       "      <td>1385803.00</td>\n",
       "      <td>bobobark-designed-for-women-made-for-life</td>\n",
       "      <td>True</td>\n",
       "      <td>False</td>\n",
       "      <td>1</td>\n",
       "      <td>1.568408e+09</td>\n",
       "      <td>1.385803e+06</td>\n",
       "      <td>Product Design</td>\n",
       "      <td>Design</td>\n",
       "    </tr>\n",
       "  </tbody>\n",
       "</table>\n",
       "<p>5 rows × 22 columns</p>\n",
       "</div>"
      ],
      "text/plain": [
       "   backers_count                                              blurb  \\\n",
       "0            1.0  we are going Production herbal teabag of  plan...   \n",
       "1          637.0  Two agents battle each other in another dimens...   \n",
       "2           50.0  A collection of Hard Enamel pins inspired by T...   \n",
       "3            8.0  Low carb, no sugar sauces and marinades using ...   \n",
       "4         6452.0  The everyday bag fused with Parisian chic and ...   \n",
       "\n",
       "   converted_pledged_amount country_displayable_name    created_at currency  \\\n",
       "0                      19.0                Australia  1.441269e+09      AUD   \n",
       "1                   16233.0        the United States  1.576048e+09      USD   \n",
       "2                     983.0                   Canada  1.560822e+09      CAD   \n",
       "3                     361.0        the United States  1.563140e+09      USD   \n",
       "4                 1385803.0        the United States  1.561365e+09      USD   \n",
       "\n",
       "  currency_trailing_code      deadline   fx_rate     goal  ...  \\\n",
       "0                   True  1.444141e+09  0.643694  14000.0  ...   \n",
       "1                   True  1.583987e+09  1.000000   6000.0  ...   \n",
       "2                   True  1.564166e+09  0.709285    450.0  ...   \n",
       "3                   True  1.569531e+09  1.000000  28000.0  ...   \n",
       "4                   True  1.568408e+09  1.000000  15000.0  ...   \n",
       "\n",
       "                                              name_x     pledged  \\\n",
       "0  Production herbal teabag of plants native to Iran       27.00   \n",
       "1                                        Slip Strike    16233.00   \n",
       "2                                  Tattoo Shop Flash     1294.29   \n",
       "3           Pennington's - Keto Sauces and Marinades      361.00   \n",
       "4      bobobark - Designed for Women. Made for Life.  1385803.00   \n",
       "\n",
       "                                                slug  spotlight staff_pick  \\\n",
       "0  production-herbal-teabag-of-plants-native-to-iran      False      False   \n",
       "1                                      slip-strike-0       True      False   \n",
       "2                                  tattoo-shop-flash       True      False   \n",
       "3              penningtons-keto-sauces-and-marinades      False      False   \n",
       "4          bobobark-designed-for-women-made-for-life       True      False   \n",
       "\n",
       "  state state_changed_at   usd_pledged          name_y  parentname  \n",
       "0     0     1.444141e+09  1.866144e+01     Small Batch        Food  \n",
       "1     1     1.583987e+09  1.623300e+04  Tabletop Games       Games  \n",
       "2     1     1.564166e+09  9.874137e+02     Accessories     Fashion  \n",
       "3     0     1.569531e+09  3.610000e+02     Small Batch        Food  \n",
       "4     1     1.568408e+09  1.385803e+06  Product Design      Design  \n",
       "\n",
       "[5 rows x 22 columns]"
      ]
     },
     "execution_count": 95,
     "metadata": {},
     "output_type": "execute_result"
    }
   ],
   "source": [
    "df.head()"
   ]
  },
  {
   "cell_type": "code",
   "execution_count": 96,
   "metadata": {},
   "outputs": [
    {
     "data": {
      "text/plain": [
       "(208235, 22)"
      ]
     },
     "execution_count": 96,
     "metadata": {},
     "output_type": "execute_result"
    }
   ],
   "source": [
    "df.shape"
   ]
  },
  {
   "cell_type": "markdown",
   "metadata": {},
   "source": [
    "## Logistic Regression"
   ]
  },
  {
   "cell_type": "code",
   "execution_count": 97,
   "metadata": {},
   "outputs": [
    {
     "name": "stdout",
     "output_type": "stream",
     "text": [
      "<class 'pandas.core.frame.DataFrame'>\n",
      "Int64Index: 208235 entries, 0 to 217005\n",
      "Data columns (total 22 columns):\n",
      " #   Column                    Non-Null Count   Dtype  \n",
      "---  ------                    --------------   -----  \n",
      " 0   backers_count             208235 non-null  float64\n",
      " 1   blurb                     208235 non-null  object \n",
      " 2   converted_pledged_amount  208235 non-null  float64\n",
      " 3   country_displayable_name  208235 non-null  object \n",
      " 4   created_at                208235 non-null  float64\n",
      " 5   currency                  208235 non-null  object \n",
      " 6   currency_trailing_code    208235 non-null  object \n",
      " 7   deadline                  208235 non-null  float64\n",
      " 8   fx_rate                   208235 non-null  float64\n",
      " 9   goal                      208235 non-null  float64\n",
      " 10  id_x                      208235 non-null  float64\n",
      " 11  launched_at               208235 non-null  float64\n",
      " 12  name_x                    208235 non-null  object \n",
      " 13  pledged                   208235 non-null  float64\n",
      " 14  slug                      208235 non-null  object \n",
      " 15  spotlight                 208235 non-null  object \n",
      " 16  staff_pick                208235 non-null  object \n",
      " 17  state                     208235 non-null  int64  \n",
      " 18  state_changed_at          208235 non-null  float64\n",
      " 19  usd_pledged               208235 non-null  float64\n",
      " 20  name_y                    208235 non-null  object \n",
      " 21  parentname                208235 non-null  object \n",
      "dtypes: float64(11), int64(1), object(10)\n",
      "memory usage: 36.5+ MB\n"
     ]
    }
   ],
   "source": [
    "df.info()"
   ]
  },
  {
   "cell_type": "code",
   "execution_count": 98,
   "metadata": {},
   "outputs": [
    {
     "data": {
      "text/plain": [
       "the United States     143456\n",
       "the United Kingdom     23963\n",
       "Canada                  9841\n",
       "Australia               5013\n",
       "Germany                 3785\n",
       "France                  3015\n",
       "Mexico                  2932\n",
       "Italy                   2636\n",
       "Spain                   2354\n",
       "the Netherlands         1842\n",
       "Sweden                  1529\n",
       "Hong Kong               1485\n",
       "Denmark                  949\n",
       "New Zealand              921\n",
       "Singapore                836\n",
       "Switzerland              729\n",
       "Ireland                  677\n",
       "Belgium                  617\n",
       "Japan                    554\n",
       "Austria                  532\n",
       "Norway                   497\n",
       "Luxembourg                72\n",
       "Name: country_displayable_name, dtype: int64"
      ]
     },
     "execution_count": 98,
     "metadata": {},
     "output_type": "execute_result"
    }
   ],
   "source": [
    "df.country_displayable_name.value_counts()"
   ]
  },
  {
   "cell_type": "code",
   "execution_count": 99,
   "metadata": {},
   "outputs": [],
   "source": [
    "df.state = df.state.replace({1:0, 0:1})"
   ]
  },
  {
   "cell_type": "code",
   "execution_count": 100,
   "metadata": {},
   "outputs": [],
   "source": [
    "from sklearn.preprocessing import LabelEncoder\n",
    "gle = LabelEncoder()\n",
    "genre_labels = gle.fit_transform(df['parentname'])\n",
    "genre_mappings = {index: label for index, label in enumerate(gle.classes_)}"
   ]
  },
  {
   "cell_type": "code",
   "execution_count": 101,
   "metadata": {},
   "outputs": [
    {
     "data": {
      "text/plain": [
       "{0: 'Art',\n",
       " 1: 'Comics',\n",
       " 2: 'Crafts',\n",
       " 3: 'Dance',\n",
       " 4: 'Design',\n",
       " 5: 'Fashion',\n",
       " 6: 'Film  Video',\n",
       " 7: 'Food',\n",
       " 8: 'Games',\n",
       " 9: 'Journalism',\n",
       " 10: 'Music',\n",
       " 11: 'Photography',\n",
       " 12: 'Publishing',\n",
       " 13: 'Technology',\n",
       " 14: 'Theater'}"
      ]
     },
     "execution_count": 101,
     "metadata": {},
     "output_type": "execute_result"
    }
   ],
   "source": [
    "genre_mappings"
   ]
  },
  {
   "cell_type": "code",
   "execution_count": 102,
   "metadata": {},
   "outputs": [],
   "source": [
    "df.parentname = genre_labels"
   ]
  },
  {
   "cell_type": "code",
   "execution_count": 103,
   "metadata": {},
   "outputs": [],
   "source": [
    "gle = LabelEncoder()\n",
    "type_labels = gle.fit_transform(df['name_y'])\n",
    "type_mappings = {index: label for index, label in enumerate(gle.classes_)}"
   ]
  },
  {
   "cell_type": "code",
   "execution_count": 104,
   "metadata": {},
   "outputs": [],
   "source": [
    "df.name_y = type_labels"
   ]
  },
  {
   "cell_type": "code",
   "execution_count": 105,
   "metadata": {},
   "outputs": [],
   "source": [
    "X = df.drop(['state',\n",
    "             'blurb',\n",
    "             'country_displayable_name',\n",
    "             'currency',\n",
    "             'currency_trailing_code',\n",
    "             'name_x',\n",
    "             'slug',\n",
    "             'spotlight',\n",
    "             'staff_pick'\n",
    "            ], axis=1)\n",
    "y = df.state"
   ]
  },
  {
   "cell_type": "code",
   "execution_count": 119,
   "metadata": {},
   "outputs": [],
   "source": [
    "features = ['backers_count', \n",
    "            'converted_pledged_amount', \n",
    "            'created_at', \n",
    "            'deadline', \n",
    "            'fx_rate', \n",
    "            'goal', \n",
    "            'id_x', \n",
    "            'launched_at', \n",
    "            'pledged', \n",
    "            'state_changed_at',\n",
    "            'usd_pledged',\n",
    "            'parentname',\n",
    "            'name_y'\n",
    "           ]"
   ]
  },
  {
   "cell_type": "code",
   "execution_count": 120,
   "metadata": {},
   "outputs": [],
   "source": [
    "X = df[features]\n",
    "y = df.state"
   ]
  },
  {
   "cell_type": "code",
   "execution_count": 121,
   "metadata": {},
   "outputs": [],
   "source": [
    "from sklearn.feature_selection import RFE"
   ]
  },
  {
   "cell_type": "code",
   "execution_count": 122,
   "metadata": {},
   "outputs": [],
   "source": [
    "import matplotlib.pyplot as plt\n",
    "import numpy as np\n",
    "import pandas as pd\n",
    "\n",
    "import seaborn as sns\n",
    "\n",
    "plt.style.use('fivethirtyeight')\n",
    "\n",
    "%matplotlib inline\n",
    "%config InlineBackend.figure_format = 'retina'\n",
    "\n",
    "# Import LogisticRegression and LinearRegression from sklearn.linear_model\n",
    "from sklearn.linear_model import LogisticRegression, LinearRegression"
   ]
  },
  {
   "cell_type": "code",
   "execution_count": 123,
   "metadata": {},
   "outputs": [],
   "source": [
    "from sklearn.linear_model import LogisticRegression\n",
    "from sklearn.model_selection import train_test_split\n",
    "X_train, X_test, y_train, y_test = train_test_split (X, y, random_state = 42)"
   ]
  },
  {
   "cell_type": "code",
   "execution_count": 124,
   "metadata": {},
   "outputs": [],
   "source": [
    "# Scale our data.\n",
    "# Relabeling scaled data as \"Z\" is common.\n",
    "from sklearn.preprocessing import StandardScaler\n",
    "sc = StandardScaler()\n",
    "Z_train = sc.fit_transform(X_train)\n",
    "Z_test = sc.transform(X_test)"
   ]
  },
  {
   "cell_type": "code",
   "execution_count": 125,
   "metadata": {},
   "outputs": [
    {
     "name": "stdout",
     "output_type": "stream",
     "text": [
      "[[29714  3960]\n",
      " [ 2397 15988]]\n"
     ]
    },
    {
     "name": "stderr",
     "output_type": "stream",
     "text": [
      "/Users/ianirizarry/anaconda3/lib/python3.7/site-packages/sklearn/linear_model/_logistic.py:764: ConvergenceWarning: lbfgs failed to converge (status=1):\n",
      "STOP: TOTAL NO. of ITERATIONS REACHED LIMIT.\n",
      "\n",
      "Increase the number of iterations (max_iter) or scale the data as shown in:\n",
      "    https://scikit-learn.org/stable/modules/preprocessing.html\n",
      "Please also refer to the documentation for alternative solver options:\n",
      "    https://scikit-learn.org/stable/modules/linear_model.html#logistic-regression\n",
      "  extra_warning_msg=_LOGISTIC_SOLVER_CONVERGENCE_MSG)\n"
     ]
    }
   ],
   "source": [
    "from sklearn.metrics import confusion_matrix\n",
    "logreg = LogisticRegression(C=1e9, solver='lbfgs')\n",
    "logreg.fit(Z_train, y_train)\n",
    "\n",
    "# Predict the labels of the test set: y_pred\n",
    "y_pred = logreg.predict(Z_test)\n",
    "\n",
    "# Compute and print the confusion matrix and classification report\n",
    "print(confusion_matrix(y_test, y_pred))"
   ]
  },
  {
   "cell_type": "code",
   "execution_count": 131,
   "metadata": {},
   "outputs": [
    {
     "data": {
      "text/plain": [
       "0    135107\n",
       "1     73128\n",
       "Name: state, dtype: int64"
      ]
     },
     "execution_count": 131,
     "metadata": {},
     "output_type": "execute_result"
    }
   ],
   "source": [
    "df.state.value_counts()"
   ]
  },
  {
   "cell_type": "code",
   "execution_count": 128,
   "metadata": {},
   "outputs": [
    {
     "name": "stdout",
     "output_type": "stream",
     "text": [
      "0.8752177031041901\n",
      "0.8778885495303406\n"
     ]
    }
   ],
   "source": [
    "print(logreg.score(Z_train, y_train))\n",
    "print(logreg.score(Z_test, y_test))"
   ]
  },
  {
   "cell_type": "code",
   "execution_count": 129,
   "metadata": {},
   "outputs": [
    {
     "data": {
      "text/plain": [
       "array([[-5.05052588e+01, -1.30061806e+00, -6.82103366e-01,\n",
       "        -9.00615146e+01,  1.93034496e-02,  1.13618028e+00,\n",
       "        -8.08978579e-03, -3.23738813e+01,  1.32262340e+00,\n",
       "         1.22890009e+02, -1.07419233e+00, -3.86592953e-03,\n",
       "        -1.12429611e-02]])"
      ]
     },
     "execution_count": 129,
     "metadata": {},
     "output_type": "execute_result"
    }
   ],
   "source": [
    "logreg.coef_"
   ]
  },
  {
   "cell_type": "code",
   "execution_count": 130,
   "metadata": {},
   "outputs": [
    {
     "name": "stdout",
     "output_type": "stream",
     "text": [
      "backers_count\t-50.50525880971376\n",
      "converted_pledged_amount\t-1.3006180553080446\n",
      "created_at\t-0.6821033657711582\n",
      "deadline\t-90.06151459324798\n",
      "fx_rate\t0.019303449567795262\n",
      "goal\t1.1361802788704174\n",
      "id_x\t-0.008089785794514302\n",
      "launched_at\t-32.37388128548797\n",
      "pledged\t1.3226233970463004\n",
      "state_changed_at\t122.89000856446515\n",
      "usd_pledged\t-1.0741923313397805\n",
      "parentname\t-0.003865929532217644\n",
      "name_y\t-0.011242961065191022\n"
     ]
    }
   ],
   "source": [
    "# Assign the coefficients to a list coef\n",
    "coef = logreg.coef_\n",
    "for p,c in zip(features,list(coef[0])):\n",
    "    print(p + '\\t' + str(c))"
   ]
  },
  {
   "cell_type": "code",
   "execution_count": null,
   "metadata": {},
   "outputs": [],
   "source": [
    "# exponentiate"
   ]
  },
  {
   "cell_type": "code",
   "execution_count": 116,
   "metadata": {},
   "outputs": [
    {
     "data": {
      "text/plain": [
       "Index(['backers_count', 'blurb', 'converted_pledged_amount',\n",
       "       'country_displayable_name', 'created_at', 'currency',\n",
       "       'currency_trailing_code', 'deadline', 'fx_rate', 'goal', 'id_x',\n",
       "       'launched_at', 'name_x', 'pledged', 'slug', 'spotlight', 'staff_pick',\n",
       "       'state', 'state_changed_at', 'usd_pledged', 'name_y', 'parentname'],\n",
       "      dtype='object')"
      ]
     },
     "execution_count": 116,
     "metadata": {},
     "output_type": "execute_result"
    }
   ],
   "source": [
    "df.columns"
   ]
  },
  {
   "cell_type": "code",
   "execution_count": 132,
   "metadata": {},
   "outputs": [
    {
     "data": {
      "text/plain": [
       "6     28223\n",
       "10    27057\n",
       "13    21453\n",
       "12    20865\n",
       "0     20622\n",
       "7     16010\n",
       "8     14097\n",
       "5     12575\n",
       "4      8846\n",
       "1      8818\n",
       "11     8117\n",
       "14     6794\n",
       "2      6607\n",
       "9      5373\n",
       "3      2778\n",
       "Name: parentname, dtype: int64"
      ]
     },
     "execution_count": 132,
     "metadata": {},
     "output_type": "execute_result"
    }
   ],
   "source": [
    "df.parentname.value_counts()"
   ]
  },
  {
   "cell_type": "code",
   "execution_count": null,
   "metadata": {},
   "outputs": [],
   "source": []
  }
 ],
 "metadata": {
  "kernelspec": {
   "display_name": "Python 3",
   "language": "python",
   "name": "python3"
  },
  "language_info": {
   "codemirror_mode": {
    "name": "ipython",
    "version": 3
   },
   "file_extension": ".py",
   "mimetype": "text/x-python",
   "name": "python",
   "nbconvert_exporter": "python",
   "pygments_lexer": "ipython3",
   "version": "3.7.6"
  },
  "toc-autonumbering": false,
  "toc-showcode": false,
  "toc-showmarkdowntxt": false
 },
 "nbformat": 4,
 "nbformat_minor": 4
}
